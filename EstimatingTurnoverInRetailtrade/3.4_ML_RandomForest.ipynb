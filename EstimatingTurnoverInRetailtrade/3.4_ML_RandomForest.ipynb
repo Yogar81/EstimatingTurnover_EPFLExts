{
 "cells": [
  {
   "cell_type": "markdown",
   "metadata": {},
   "source": [
    "# Estimating Turnover in Retail Trade\n",
    "\n",
    "### Capstone Project by Christian Furger "
   ]
  },
  {
   "cell_type": "markdown",
   "metadata": {},
   "source": [
    "## Machine Learning - RandomForest Regression"
   ]
  },
  {
   "cell_type": "markdown",
   "metadata": {},
   "source": [
    "In this notebook, a RandomForest regressor is tuned. As a baseline to evaluate the model, turnover one year before is used.\n",
    "The regressor is tuned once with a dataset ending 2019 (before the coronavirus pandemic) and once with data up until 2020. At the end of this notebook, a quick comparison of the RandomForest models and the baseline is done. In a final notebook (3.6), the different models are compared with each other."
   ]
  },
  {
   "cell_type": "code",
   "execution_count": 1,
   "metadata": {},
   "outputs": [],
   "source": [
    "# Import statements\n",
    "import os\n",
    "import numpy as np\n",
    "import pandas as pd\n",
    "%matplotlib inline\n",
    "import matplotlib.pyplot as plt\n",
    "import seaborn as sns"
   ]
  },
  {
   "cell_type": "markdown",
   "metadata": {},
   "source": [
    "## 1. Data Preparation <a name=\"1\"></a>"
   ]
  },
  {
   "cell_type": "markdown",
   "metadata": {},
   "source": [
    "### 1.1 Import Data <a name=\"1.1\"></a>"
   ]
  },
  {
   "cell_type": "code",
   "execution_count": 2,
   "metadata": {},
   "outputs": [
    {
     "name": "stdout",
     "output_type": "stream",
     "text": [
      "df2020_pred: (43180, 26)\n",
      "df2019_pred: (37858, 26)\n"
     ]
    }
   ],
   "source": [
    "# Import datasets to compare the predictions\n",
    "df2020_pred = pd.read_csv('df2020_pred.csv', index_col = ('OID', 'Date'), dtype = {'Stratum_Noga' : object, 'Noga_Enterprise' : object, 'Hist_Limit' : object})\n",
    "df2019_pred = pd.read_csv('df2019_pred.csv', index_col = ('OID', 'Date'), dtype = {'Stratum_Noga' : object, 'Noga_Enterprise' : object, 'Hist_Limit' : object})\n",
    "\n",
    "print('df2020_pred:', df2020_pred.shape)\n",
    "print('df2019_pred:', df2019_pred.shape)"
   ]
  },
  {
   "cell_type": "code",
   "execution_count": 3,
   "metadata": {},
   "outputs": [
    {
     "name": "stdout",
     "output_type": "stream",
     "text": [
      "X2020_tr: (100753, 167)\n",
      "X2020_tr_rescaled: (100753, 167)\n",
      "y2020_tr: (100753,)\n",
      "X2020_te: (43180, 167)\n",
      "X2020_te_rescaled: (43180, 167)\n",
      "y2020_te: (43180,)\n"
     ]
    }
   ],
   "source": [
    "# Load the npz files 2020\n",
    "with np.load('train_data_2020.npz', allow_pickle=False) as train_2020:\n",
    "    train_data_2020 = dict(train_2020.items())\n",
    "with np.load('train_data_rescaled_2020.npz', allow_pickle=False) as train_rescaled_2020:\n",
    "    train_data_rescaled_2020 = dict(train_rescaled_2020.items())\n",
    "with np.load('test_data_2020.npz', allow_pickle=False) as test_2020:\n",
    "    test_data_2020 = dict(test_2020.items())\n",
    "with np.load('test_data_rescaled_2020.npz', allow_pickle=False) as test_rescaled_2020:\n",
    "    test_data_rescaled_2020 = dict(test_rescaled_2020.items())\n",
    "    \n",
    "# Create X/y arrays\n",
    "X2020_tr = train_data_2020['features']\n",
    "X2020_tr_rescaled = train_data_rescaled_2020['features']\n",
    "y2020_tr = train_data_2020['targets']\n",
    "\n",
    "X2020_te = test_data_2020['features']\n",
    "X2020_te_rescaled = test_data_rescaled_2020['features']\n",
    "y2020_te = test_data_2020['targets']\n",
    "\n",
    "print('X2020_tr:', X2020_tr.shape)\n",
    "print('X2020_tr_rescaled:', X2020_tr_rescaled.shape)\n",
    "print('y2020_tr:', y2020_tr.shape)\n",
    "\n",
    "print('X2020_te:', X2020_te.shape)\n",
    "print('X2020_te_rescaled:', X2020_te_rescaled.shape)\n",
    "print('y2020_te:', y2020_te.shape)"
   ]
  },
  {
   "cell_type": "code",
   "execution_count": 4,
   "metadata": {},
   "outputs": [
    {
     "name": "stdout",
     "output_type": "stream",
     "text": [
      "X2019_tr: (88334, 165)\n",
      "X2019_tr_rescaled: (88334, 165)\n",
      "y2019_tr: (88334,)\n",
      "X2019_te: (37858, 165)\n",
      "X2019_te_rescaled: (37858, 165)\n",
      "y2019_te: (37858,)\n"
     ]
    }
   ],
   "source": [
    "# Load the npz files 2019\n",
    "with np.load('train_data_2019.npz', allow_pickle=False) as train_2019:\n",
    "    train_data_2019 = dict(train_2019.items())\n",
    "with np.load('train_data_rescaled_2019.npz', allow_pickle=False) as train_rescaled_2019:\n",
    "    train_data_rescaled_2019 = dict(train_rescaled_2019.items())\n",
    "with np.load('test_data_2019.npz', allow_pickle=False) as test_2019:\n",
    "    test_data_2019 = dict(test_2019.items())\n",
    "with np.load('test_data_rescaled_2019.npz', allow_pickle=False) as test_rescaled_2019:\n",
    "    test_data_rescaled_2019 = dict(test_rescaled_2019.items())\n",
    "    \n",
    "# Create X/y arrays\n",
    "X2019_tr = train_data_2019['features']\n",
    "X2019_tr_rescaled = train_data_rescaled_2019['features']\n",
    "y2019_tr = train_data_2019['targets']\n",
    "\n",
    "X2019_te = test_data_2019['features']\n",
    "X2019_te_rescaled = test_data_rescaled_2019['features']\n",
    "y2019_te = test_data_2019['targets']\n",
    "\n",
    "print('X2019_tr:', X2019_tr.shape)\n",
    "print('X2019_tr_rescaled:', X2019_tr_rescaled.shape)\n",
    "print('y2019_tr:', y2019_tr.shape)\n",
    "\n",
    "print('X2019_te:', X2019_te.shape)\n",
    "print('X2019_te_rescaled:', X2019_te_rescaled.shape)\n",
    "print('y2019_te:', y2019_te.shape)"
   ]
  },
  {
   "cell_type": "markdown",
   "metadata": {},
   "source": [
    "### 1.2 Create Baseline <a name=\"1.2\"></a>"
   ]
  },
  {
   "cell_type": "code",
   "execution_count": 5,
   "metadata": {},
   "outputs": [],
   "source": [
    "# Compare models with mean absolute error (MAE), mean squared error (MSE) and root mean squared error (RMSE)\n",
    "from sklearn.metrics import mean_absolute_error as MAE\n",
    "from sklearn.metrics import mean_squared_error as MSE\n",
    "\n",
    "def RMSE(y, y_pred):\n",
    "    return np.sqrt(np.mean(np.square(y-y_pred)))"
   ]
  },
  {
   "cell_type": "code",
   "execution_count": 6,
   "metadata": {},
   "outputs": [
    {
     "name": "stdout",
     "output_type": "stream",
     "text": [
      "Baseline (2020) MAE (in CHF): 3145.04\n",
      "Baseline (2020) RMSE: 40103.069\n",
      "Baseline (2020) MSE: 15.322\n"
     ]
    }
   ],
   "source": [
    "# Baseline 2020: turnover one year before\n",
    "# Load the npz files\n",
    "with np.load('y2020_te_baseline.npz', allow_pickle=False) as baseline_2020:\n",
    "    y2020_baseline = dict(baseline_2020.items())\n",
    "\n",
    "y2020_te_baseline = y2020_baseline['targets']    \n",
    "\n",
    "mae_baseline2020 = MAE(np.expm1(y2020_te), np.expm1(y2020_te_baseline))\n",
    "rmse_baseline2020=RMSE(np.expm1(y2020_te), np.expm1(y2020_te_baseline))\n",
    "mse_baseline2020 = MSE(y2020_te, y2020_te_baseline)\n",
    "\n",
    "print('Baseline (2020) MAE (in CHF): {:.2f}'.format(mae_baseline2020))\n",
    "print('Baseline (2020) RMSE: {:.3f}'.format(rmse_baseline2020))\n",
    "print('Baseline (2020) MSE: {:.3f}'.format(mse_baseline2020))"
   ]
  },
  {
   "cell_type": "code",
   "execution_count": 7,
   "metadata": {},
   "outputs": [
    {
     "name": "stdout",
     "output_type": "stream",
     "text": [
      "Baseline (2019) MAE (in CHF): 2956.58\n",
      "Baseline (2019) RMSE: 38434.627\n",
      "Baseline (2019) MSE: 15.130\n"
     ]
    }
   ],
   "source": [
    "# Baseline 2019: turnover one year before\n",
    "# Load the npz files\n",
    "with np.load('y2019_te_baseline.npz', allow_pickle=False) as baseline_2019:\n",
    "    y2019_baseline = dict(baseline_2019.items())\n",
    "\n",
    "y2019_te_baseline = y2019_baseline['targets']    \n",
    "\n",
    "mae_baseline2019 = MAE(np.expm1(y2019_te), np.expm1(y2019_te_baseline))\n",
    "rmse_baseline2019=RMSE(np.expm1(y2019_te), np.expm1(y2019_te_baseline))\n",
    "mse_baseline2019 = MSE(y2019_te, y2019_te_baseline)\n",
    "\n",
    "print('Baseline (2019) MAE (in CHF): {:.2f}'.format(mae_baseline2019))\n",
    "print('Baseline (2019) RMSE: {:.3f}'.format(rmse_baseline2019))\n",
    "print('Baseline (2019) MSE: {:.3f}'.format(mse_baseline2019))"
   ]
  },
  {
   "cell_type": "code",
   "execution_count": 8,
   "metadata": {},
   "outputs": [],
   "source": [
    "# Function to plot predicted vs real values\n",
    "def plot_prediction(model,df,year,title):\n",
    "\n",
    "    size=['small','medium','large']\n",
    "    colors = ['red', 'green', 'blue']\n",
    "\n",
    "    fig, axes = plt.subplots(1,len(size),figsize=(5*len(size),5))\n",
    "    fig.suptitle(title+' ('+str(year)+'): Scatter plots of real vs predicted turnover (log)',fontsize=20)\n",
    "\n",
    "    for i in range(0,3):\n",
    "        size_df=df[df['Stratum_Size']==i+1]\n",
    "        axes[i].scatter(np.log1p(size_df['TOV']), np.log1p(size_df['TOV_'+model]), label='', color=colors[i], s=1)\n",
    "        axes[i].plot([0,14],[0,14], color='black', linewidth=1)\n",
    "\n",
    "        #obtain a (slope) and b(intercept) of linear regression line\n",
    "        a, b = np.polyfit(np.log1p(size_df['TOV']), np.log1p(size_df['TOV_'+model]), 1)\n",
    "        \n",
    "        # Generate a hundred values between 0 and 14\n",
    "        x_values = np.linspace(0, 14, num=100)\n",
    "        # Compute the associate y values\n",
    "        y_values = a*x_values + b\n",
    "        \n",
    "        #add linear regression line to scatterplot          \n",
    "        axes[i].plot(x_values, y_values, color=colors[i], label='slope: {:.2f}'.format(a))\n",
    "           \n",
    "        axes[i].set_title(size[i])\n",
    "        axes[i].set_xlabel('real')\n",
    "        axes[i].set_ylabel('predicted')\n",
    "        axes[i].legend()\n",
    "\n",
    "    plt.show()"
   ]
  },
  {
   "cell_type": "markdown",
   "metadata": {},
   "source": [
    "## 2. Model fitting <a name=\"2\"></a>"
   ]
  },
  {
   "cell_type": "code",
   "execution_count": 9,
   "metadata": {},
   "outputs": [
    {
     "name": "stdout",
     "output_type": "stream",
     "text": [
      "{'pca__n_components': [2, 5, 10, 20, 50, 100],\n",
      " 'rf__max_depth': [10, 20, 30, 40, 50, 60, 70, 80, 90, 100, 110, None],\n",
      " 'rf__max_features': ['auto', 'sqrt'],\n",
      " 'rf__min_samples_leaf': [1, 2, 4],\n",
      " 'rf__min_samples_split': [2, 5, 10],\n",
      " 'rf__n_estimators': [100, 200, 300, 400, 500, 600, 700, 800, 900, 1000]}\n"
     ]
    }
   ],
   "source": [
    "from sklearn.ensemble import RandomForestRegressor\n",
    "from sklearn.pipeline import Pipeline\n",
    "from sklearn.decomposition import PCA\n",
    "from sklearn.model_selection import RandomizedSearchCV\n",
    "from sklearn.model_selection import GridSearchCV\n",
    "from pprint import pprint\n",
    "\n",
    "# Create a RandomForest pipeline\n",
    "rf_estimator = Pipeline([\n",
    "    ('pca', PCA()),\n",
    "    ('rf', RandomForestRegressor())\n",
    "])\n",
    "\n",
    "# Use the random grid to search for best hyperparameters\n",
    "# Number of components for PCA\n",
    "n_components = [2, 5, 10, 20, 50, 100]\n",
    "# Number of trees in random forest\n",
    "n_estimators = [int(x) for x in np.linspace(start = 100, stop = 1000, num = 10)]\n",
    "# Number of features to consider at every split\n",
    "max_features = ['auto', 'sqrt']\n",
    "# Maximum number of levels in tree\n",
    "max_depth = [int(x) for x in np.linspace(10, 110, num = 11)]\n",
    "max_depth.append(None)\n",
    "# Minimum number of samples required to split a node\n",
    "min_samples_split = [2, 5, 10]\n",
    "# Minimum number of samples required at each leaf node\n",
    "min_samples_leaf = [1, 2, 4]\n",
    "\n",
    "# Create the random grid\n",
    "random_grid = {'pca__n_components': n_components,\n",
    "               'rf__n_estimators': n_estimators,\n",
    "               'rf__max_features': max_features,\n",
    "               'rf__max_depth': max_depth,\n",
    "               'rf__min_samples_split': min_samples_split,\n",
    "               'rf__min_samples_leaf': min_samples_leaf}\n",
    "pprint(random_grid)"
   ]
  },
  {
   "cell_type": "markdown",
   "metadata": {},
   "source": [
    "Grid search with the whole dataset throws a memory error, therefore, a sample of 10000 entries (~10%) of the train data is taken to find the optimal parameters. The final model is then estimated using the whole dataset."
   ]
  },
  {
   "cell_type": "code",
   "execution_count": 10,
   "metadata": {},
   "outputs": [
    {
     "name": "stdout",
     "output_type": "stream",
     "text": [
      "X2020_sample: (10000, 167)\n",
      "y2020_sample: (10000,)\n",
      "X2019_sample: (10000, 165)\n",
      "y2019_sample: (10000,)\n"
     ]
    }
   ],
   "source": [
    "# Take a sample of 10000 entries (~10%) of the train data to speed up the process of tree building\n",
    "np.random.seed(42)\n",
    "\n",
    "idx20 = np.random.choice(np.arange(len(X2020_tr)), 10000, replace=False)\n",
    "X2020_sample = X2020_tr[idx20]\n",
    "y2020_sample = y2020_tr[idx20]\n",
    "print('X2020_sample:',X2020_sample.shape)\n",
    "print('y2020_sample:',y2020_sample.shape)\n",
    "\n",
    "idx19 = np.random.choice(np.arange(len(X2019_tr)), 10000, replace=False)\n",
    "X2019_sample = X2019_tr[idx19]\n",
    "y2019_sample = y2019_tr[idx19]\n",
    "print('X2019_sample:',X2019_sample.shape)\n",
    "print('y2019_sample:',y2019_sample.shape)"
   ]
  },
  {
   "cell_type": "markdown",
   "metadata": {},
   "source": [
    "### 2.1 Dataset ending 2020 <a name=\"2.1\"></a>"
   ]
  },
  {
   "cell_type": "markdown",
   "metadata": {},
   "source": [
    "First, let's try to find the optimal parameters of a model with PCA with a random search over a grid of values."
   ]
  },
  {
   "cell_type": "code",
   "execution_count": 11,
   "metadata": {},
   "outputs": [
    {
     "name": "stdout",
     "output_type": "stream",
     "text": [
      "Fitting 5 folds for each of 100 candidates, totalling 500 fits\n"
     ]
    },
    {
     "name": "stderr",
     "output_type": "stream",
     "text": [
      "[Parallel(n_jobs=-1)]: Using backend LokyBackend with 8 concurrent workers.\n",
      "[Parallel(n_jobs=-1)]: Done  25 tasks      | elapsed:  2.2min\n",
      "[Parallel(n_jobs=-1)]: Done 146 tasks      | elapsed: 21.3min\n",
      "[Parallel(n_jobs=-1)]: Done 349 tasks      | elapsed: 50.1min\n",
      "[Parallel(n_jobs=-1)]: Done 500 out of 500 | elapsed: 69.3min finished\n"
     ]
    },
    {
     "data": {
      "text/plain": [
       "{'rf__n_estimators': 700,\n",
       " 'rf__min_samples_split': 2,\n",
       " 'rf__min_samples_leaf': 2,\n",
       " 'rf__max_features': 'auto',\n",
       " 'rf__max_depth': 20,\n",
       " 'pca__n_components': 100}"
      ]
     },
     "execution_count": 11,
     "metadata": {},
     "output_type": "execute_result"
    }
   ],
   "source": [
    "# Random search of parameters, using 5 fold cross validation, \n",
    "# search across 100 different combinations, and use all available cores\n",
    "rf_random_2020 = RandomizedSearchCV(estimator = rf_estimator, param_distributions = random_grid, n_iter = 100, cv = 5, return_train_score=True, verbose=2, random_state=42, n_jobs = -1)\n",
    "\n",
    "# Fit the random search model\n",
    "rf_random_2020.fit(X2020_sample, y2020_sample)\n",
    "\n",
    "rf_random_2020.best_params_"
   ]
  },
  {
   "cell_type": "code",
   "execution_count": 12,
   "metadata": {},
   "outputs": [
    {
     "data": {
      "text/html": [
       "<div>\n",
       "<style scoped>\n",
       "    .dataframe tbody tr th:only-of-type {\n",
       "        vertical-align: middle;\n",
       "    }\n",
       "\n",
       "    .dataframe tbody tr th {\n",
       "        vertical-align: top;\n",
       "    }\n",
       "\n",
       "    .dataframe thead th {\n",
       "        text-align: right;\n",
       "    }\n",
       "</style>\n",
       "<table border=\"1\" class=\"dataframe\">\n",
       "  <thead>\n",
       "    <tr style=\"text-align: right;\">\n",
       "      <th></th>\n",
       "      <th>comp</th>\n",
       "      <th>trees</th>\n",
       "      <th>max_features</th>\n",
       "      <th>max_depth</th>\n",
       "      <th>min_samples_split</th>\n",
       "      <th>min_samples_leaf</th>\n",
       "      <th>mean_tr</th>\n",
       "      <th>mean_te</th>\n",
       "      <th>std_te</th>\n",
       "    </tr>\n",
       "  </thead>\n",
       "  <tbody>\n",
       "    <tr>\n",
       "      <th>57</th>\n",
       "      <td>100</td>\n",
       "      <td>700</td>\n",
       "      <td>auto</td>\n",
       "      <td>20</td>\n",
       "      <td>2</td>\n",
       "      <td>2</td>\n",
       "      <td>0.983152</td>\n",
       "      <td>0.928974</td>\n",
       "      <td>0.009208</td>\n",
       "    </tr>\n",
       "    <tr>\n",
       "      <th>51</th>\n",
       "      <td>50</td>\n",
       "      <td>800</td>\n",
       "      <td>auto</td>\n",
       "      <td>None</td>\n",
       "      <td>2</td>\n",
       "      <td>1</td>\n",
       "      <td>0.989724</td>\n",
       "      <td>0.928747</td>\n",
       "      <td>0.009438</td>\n",
       "    </tr>\n",
       "    <tr>\n",
       "      <th>97</th>\n",
       "      <td>20</td>\n",
       "      <td>400</td>\n",
       "      <td>auto</td>\n",
       "      <td>30</td>\n",
       "      <td>10</td>\n",
       "      <td>1</td>\n",
       "      <td>0.979622</td>\n",
       "      <td>0.928745</td>\n",
       "      <td>0.008421</td>\n",
       "    </tr>\n",
       "    <tr>\n",
       "      <th>26</th>\n",
       "      <td>100</td>\n",
       "      <td>1000</td>\n",
       "      <td>auto</td>\n",
       "      <td>90</td>\n",
       "      <td>2</td>\n",
       "      <td>4</td>\n",
       "      <td>0.972189</td>\n",
       "      <td>0.928744</td>\n",
       "      <td>0.010249</td>\n",
       "    </tr>\n",
       "    <tr>\n",
       "      <th>14</th>\n",
       "      <td>20</td>\n",
       "      <td>300</td>\n",
       "      <td>auto</td>\n",
       "      <td>110</td>\n",
       "      <td>5</td>\n",
       "      <td>2</td>\n",
       "      <td>0.979191</td>\n",
       "      <td>0.928695</td>\n",
       "      <td>0.008979</td>\n",
       "    </tr>\n",
       "    <tr>\n",
       "      <th>82</th>\n",
       "      <td>20</td>\n",
       "      <td>400</td>\n",
       "      <td>auto</td>\n",
       "      <td>30</td>\n",
       "      <td>2</td>\n",
       "      <td>2</td>\n",
       "      <td>0.980619</td>\n",
       "      <td>0.928603</td>\n",
       "      <td>0.009268</td>\n",
       "    </tr>\n",
       "    <tr>\n",
       "      <th>71</th>\n",
       "      <td>50</td>\n",
       "      <td>800</td>\n",
       "      <td>auto</td>\n",
       "      <td>90</td>\n",
       "      <td>2</td>\n",
       "      <td>4</td>\n",
       "      <td>0.970738</td>\n",
       "      <td>0.928539</td>\n",
       "      <td>0.010302</td>\n",
       "    </tr>\n",
       "    <tr>\n",
       "      <th>61</th>\n",
       "      <td>50</td>\n",
       "      <td>600</td>\n",
       "      <td>auto</td>\n",
       "      <td>60</td>\n",
       "      <td>5</td>\n",
       "      <td>1</td>\n",
       "      <td>0.986017</td>\n",
       "      <td>0.928515</td>\n",
       "      <td>0.009187</td>\n",
       "    </tr>\n",
       "    <tr>\n",
       "      <th>99</th>\n",
       "      <td>20</td>\n",
       "      <td>1000</td>\n",
       "      <td>auto</td>\n",
       "      <td>None</td>\n",
       "      <td>2</td>\n",
       "      <td>4</td>\n",
       "      <td>0.968122</td>\n",
       "      <td>0.928478</td>\n",
       "      <td>0.010143</td>\n",
       "    </tr>\n",
       "    <tr>\n",
       "      <th>48</th>\n",
       "      <td>50</td>\n",
       "      <td>900</td>\n",
       "      <td>auto</td>\n",
       "      <td>20</td>\n",
       "      <td>5</td>\n",
       "      <td>1</td>\n",
       "      <td>0.986067</td>\n",
       "      <td>0.928478</td>\n",
       "      <td>0.009513</td>\n",
       "    </tr>\n",
       "  </tbody>\n",
       "</table>\n",
       "</div>"
      ],
      "text/plain": [
       "   comp trees max_features max_depth min_samples_split min_samples_leaf  \\\n",
       "57  100   700         auto        20                 2                2   \n",
       "51   50   800         auto      None                 2                1   \n",
       "97   20   400         auto        30                10                1   \n",
       "26  100  1000         auto        90                 2                4   \n",
       "14   20   300         auto       110                 5                2   \n",
       "82   20   400         auto        30                 2                2   \n",
       "71   50   800         auto        90                 2                4   \n",
       "61   50   600         auto        60                 5                1   \n",
       "99   20  1000         auto      None                 2                4   \n",
       "48   50   900         auto        20                 5                1   \n",
       "\n",
       "     mean_tr   mean_te    std_te  \n",
       "57  0.983152  0.928974  0.009208  \n",
       "51  0.989724  0.928747  0.009438  \n",
       "97  0.979622  0.928745  0.008421  \n",
       "26  0.972189  0.928744  0.010249  \n",
       "14  0.979191  0.928695  0.008979  \n",
       "82  0.980619  0.928603  0.009268  \n",
       "71  0.970738  0.928539  0.010302  \n",
       "61  0.986017  0.928515  0.009187  \n",
       "99  0.968122  0.928478  0.010143  \n",
       "48  0.986067  0.928478  0.009513  "
      ]
     },
     "execution_count": 12,
     "metadata": {},
     "output_type": "execute_result"
    }
   ],
   "source": [
    "# Collect results in a DataFrame\n",
    "rf_rand_2020 = pd.DataFrame({\n",
    "    'comp': rf_random_2020.cv_results_['param_pca__n_components'],\n",
    "    'trees': rf_random_2020.cv_results_['param_rf__n_estimators'],\n",
    "    'max_features': rf_random_2020.cv_results_['param_rf__max_features'],\n",
    "    'max_depth': rf_random_2020.cv_results_['param_rf__max_depth'],\n",
    "    'min_samples_split': rf_random_2020.cv_results_['param_rf__min_samples_split'],\n",
    "    'min_samples_leaf': rf_random_2020.cv_results_['param_rf__min_samples_leaf'],\n",
    "    'mean_tr': rf_random_2020.cv_results_['mean_train_score'],\n",
    "    'mean_te': rf_random_2020.cv_results_['mean_test_score'],\n",
    "    'std_te': rf_random_2020.cv_results_['std_test_score']\n",
    "})\n",
    "\n",
    "# Ten best combinations according to the mean \"test\" score\n",
    "# i.e. the mean score on the 5 validation folds\n",
    "rf_rand_2020.sort_values(by='mean_te', ascending=False).head(10)"
   ]
  },
  {
   "cell_type": "markdown",
   "metadata": {},
   "source": [
    "Then, we tune a second RandomForest Estimator without PCA."
   ]
  },
  {
   "cell_type": "code",
   "execution_count": 13,
   "metadata": {},
   "outputs": [
    {
     "name": "stdout",
     "output_type": "stream",
     "text": [
      "{'rf__max_depth': [10, 20, 30, 40, 50, 60, 70, 80, 90, 100, 110, None],\n",
      " 'rf__max_features': ['auto', 'sqrt'],\n",
      " 'rf__min_samples_leaf': [1, 2, 4],\n",
      " 'rf__min_samples_split': [2, 5, 10],\n",
      " 'rf__n_estimators': [100, 200, 300, 400, 500, 600, 700, 800, 900, 1000]}\n"
     ]
    }
   ],
   "source": [
    "### Second RandomForestRegressor without PCA\n",
    "\n",
    "rf_estimator2 = Pipeline([\n",
    "    ('rf', RandomForestRegressor())\n",
    "])\n",
    "\n",
    "# Use the random grid to search for best hyperparameters\n",
    "# Number of trees in random forest\n",
    "n_estimators = [int(x) for x in np.linspace(start = 100, stop = 1000, num = 10)]\n",
    "# Number of features to consider at every split\n",
    "max_features = ['auto', 'sqrt']\n",
    "# Maximum number of levels in tree\n",
    "max_depth = [int(x) for x in np.linspace(10, 110, num = 11)]\n",
    "max_depth.append(None)\n",
    "# Minimum number of samples required to split a node\n",
    "min_samples_split = [2, 5, 10]\n",
    "# Minimum number of samples required at each leaf node\n",
    "min_samples_leaf = [1, 2, 4]\n",
    "\n",
    "# Create the random grid\n",
    "random_grid2 = {'rf__n_estimators': n_estimators,\n",
    "               'rf__max_features': max_features,\n",
    "               'rf__max_depth': max_depth,\n",
    "               'rf__min_samples_split': min_samples_split,\n",
    "               'rf__min_samples_leaf': min_samples_leaf}\n",
    "pprint(random_grid2)"
   ]
  },
  {
   "cell_type": "code",
   "execution_count": 14,
   "metadata": {},
   "outputs": [
    {
     "name": "stdout",
     "output_type": "stream",
     "text": [
      "Fitting 5 folds for each of 100 candidates, totalling 500 fits\n"
     ]
    },
    {
     "name": "stderr",
     "output_type": "stream",
     "text": [
      "[Parallel(n_jobs=-1)]: Using backend LokyBackend with 8 concurrent workers.\n",
      "[Parallel(n_jobs=-1)]: Done  25 tasks      | elapsed:  2.0min\n",
      "[Parallel(n_jobs=-1)]: Done 146 tasks      | elapsed: 11.9min\n",
      "[Parallel(n_jobs=-1)]: Done 349 tasks      | elapsed: 29.9min\n",
      "[Parallel(n_jobs=-1)]: Done 500 out of 500 | elapsed: 44.1min finished\n"
     ]
    },
    {
     "data": {
      "text/plain": [
       "{'rf__n_estimators': 200,\n",
       " 'rf__min_samples_split': 5,\n",
       " 'rf__min_samples_leaf': 4,\n",
       " 'rf__max_features': 'auto',\n",
       " 'rf__max_depth': 80}"
      ]
     },
     "execution_count": 14,
     "metadata": {},
     "output_type": "execute_result"
    }
   ],
   "source": [
    "# Random search of parameters, using 5 fold cross validation, \n",
    "# search across 100 different combinations, and use all available cores\n",
    "rf_random2_2020 = RandomizedSearchCV(estimator = rf_estimator2, param_distributions = random_grid2, n_iter = 100, cv = 5, return_train_score=True, verbose=2, random_state=42, n_jobs = -1)\n",
    "\n",
    "# Fit the random search model\n",
    "rf_random2_2020.fit(X2020_sample, y2020_sample)\n",
    "\n",
    "rf_random2_2020.best_params_"
   ]
  },
  {
   "cell_type": "code",
   "execution_count": 15,
   "metadata": {},
   "outputs": [
    {
     "data": {
      "text/html": [
       "<div>\n",
       "<style scoped>\n",
       "    .dataframe tbody tr th:only-of-type {\n",
       "        vertical-align: middle;\n",
       "    }\n",
       "\n",
       "    .dataframe tbody tr th {\n",
       "        vertical-align: top;\n",
       "    }\n",
       "\n",
       "    .dataframe thead th {\n",
       "        text-align: right;\n",
       "    }\n",
       "</style>\n",
       "<table border=\"1\" class=\"dataframe\">\n",
       "  <thead>\n",
       "    <tr style=\"text-align: right;\">\n",
       "      <th></th>\n",
       "      <th>trees</th>\n",
       "      <th>max_features</th>\n",
       "      <th>max_depth</th>\n",
       "      <th>min_samples_split</th>\n",
       "      <th>min_samples_leaf</th>\n",
       "      <th>mean_tr</th>\n",
       "      <th>mean_te</th>\n",
       "      <th>std_te</th>\n",
       "    </tr>\n",
       "  </thead>\n",
       "  <tbody>\n",
       "    <tr>\n",
       "      <th>40</th>\n",
       "      <td>200</td>\n",
       "      <td>auto</td>\n",
       "      <td>80</td>\n",
       "      <td>5</td>\n",
       "      <td>4</td>\n",
       "      <td>0.970612</td>\n",
       "      <td>0.934965</td>\n",
       "      <td>0.008314</td>\n",
       "    </tr>\n",
       "    <tr>\n",
       "      <th>67</th>\n",
       "      <td>700</td>\n",
       "      <td>auto</td>\n",
       "      <td>90</td>\n",
       "      <td>2</td>\n",
       "      <td>4</td>\n",
       "      <td>0.970682</td>\n",
       "      <td>0.934878</td>\n",
       "      <td>0.008278</td>\n",
       "    </tr>\n",
       "    <tr>\n",
       "      <th>29</th>\n",
       "      <td>600</td>\n",
       "      <td>auto</td>\n",
       "      <td>60</td>\n",
       "      <td>2</td>\n",
       "      <td>4</td>\n",
       "      <td>0.970702</td>\n",
       "      <td>0.934823</td>\n",
       "      <td>0.008051</td>\n",
       "    </tr>\n",
       "    <tr>\n",
       "      <th>61</th>\n",
       "      <td>900</td>\n",
       "      <td>auto</td>\n",
       "      <td>20</td>\n",
       "      <td>2</td>\n",
       "      <td>1</td>\n",
       "      <td>0.990947</td>\n",
       "      <td>0.934725</td>\n",
       "      <td>0.008223</td>\n",
       "    </tr>\n",
       "    <tr>\n",
       "      <th>68</th>\n",
       "      <td>900</td>\n",
       "      <td>auto</td>\n",
       "      <td>110</td>\n",
       "      <td>2</td>\n",
       "      <td>4</td>\n",
       "      <td>0.970645</td>\n",
       "      <td>0.934723</td>\n",
       "      <td>0.008257</td>\n",
       "    </tr>\n",
       "    <tr>\n",
       "      <th>4</th>\n",
       "      <td>900</td>\n",
       "      <td>auto</td>\n",
       "      <td>50</td>\n",
       "      <td>2</td>\n",
       "      <td>4</td>\n",
       "      <td>0.970695</td>\n",
       "      <td>0.934716</td>\n",
       "      <td>0.008335</td>\n",
       "    </tr>\n",
       "    <tr>\n",
       "      <th>13</th>\n",
       "      <td>500</td>\n",
       "      <td>auto</td>\n",
       "      <td>70</td>\n",
       "      <td>10</td>\n",
       "      <td>4</td>\n",
       "      <td>0.968788</td>\n",
       "      <td>0.934701</td>\n",
       "      <td>0.008066</td>\n",
       "    </tr>\n",
       "    <tr>\n",
       "      <th>38</th>\n",
       "      <td>300</td>\n",
       "      <td>auto</td>\n",
       "      <td>30</td>\n",
       "      <td>2</td>\n",
       "      <td>4</td>\n",
       "      <td>0.970609</td>\n",
       "      <td>0.934683</td>\n",
       "      <td>0.008043</td>\n",
       "    </tr>\n",
       "    <tr>\n",
       "      <th>27</th>\n",
       "      <td>200</td>\n",
       "      <td>auto</td>\n",
       "      <td>20</td>\n",
       "      <td>5</td>\n",
       "      <td>4</td>\n",
       "      <td>0.970595</td>\n",
       "      <td>0.934624</td>\n",
       "      <td>0.008051</td>\n",
       "    </tr>\n",
       "    <tr>\n",
       "      <th>74</th>\n",
       "      <td>800</td>\n",
       "      <td>auto</td>\n",
       "      <td>80</td>\n",
       "      <td>5</td>\n",
       "      <td>4</td>\n",
       "      <td>0.970645</td>\n",
       "      <td>0.934617</td>\n",
       "      <td>0.008263</td>\n",
       "    </tr>\n",
       "  </tbody>\n",
       "</table>\n",
       "</div>"
      ],
      "text/plain": [
       "   trees max_features max_depth min_samples_split min_samples_leaf   mean_tr  \\\n",
       "40   200         auto        80                 5                4  0.970612   \n",
       "67   700         auto        90                 2                4  0.970682   \n",
       "29   600         auto        60                 2                4  0.970702   \n",
       "61   900         auto        20                 2                1  0.990947   \n",
       "68   900         auto       110                 2                4  0.970645   \n",
       "4    900         auto        50                 2                4  0.970695   \n",
       "13   500         auto        70                10                4  0.968788   \n",
       "38   300         auto        30                 2                4  0.970609   \n",
       "27   200         auto        20                 5                4  0.970595   \n",
       "74   800         auto        80                 5                4  0.970645   \n",
       "\n",
       "     mean_te    std_te  \n",
       "40  0.934965  0.008314  \n",
       "67  0.934878  0.008278  \n",
       "29  0.934823  0.008051  \n",
       "61  0.934725  0.008223  \n",
       "68  0.934723  0.008257  \n",
       "4   0.934716  0.008335  \n",
       "13  0.934701  0.008066  \n",
       "38  0.934683  0.008043  \n",
       "27  0.934624  0.008051  \n",
       "74  0.934617  0.008263  "
      ]
     },
     "execution_count": 15,
     "metadata": {},
     "output_type": "execute_result"
    }
   ],
   "source": [
    "# Collect results in a DataFrame\n",
    "rf_rand2_2020 = pd.DataFrame({\n",
    "    'trees': rf_random2_2020.cv_results_['param_rf__n_estimators'],\n",
    "    'max_features': rf_random2_2020.cv_results_['param_rf__max_features'],\n",
    "    'max_depth': rf_random2_2020.cv_results_['param_rf__max_depth'],\n",
    "    'min_samples_split': rf_random2_2020.cv_results_['param_rf__min_samples_split'],\n",
    "    'min_samples_leaf': rf_random2_2020.cv_results_['param_rf__min_samples_leaf'],\n",
    "    'mean_tr': rf_random2_2020.cv_results_['mean_train_score'],\n",
    "    'mean_te': rf_random2_2020.cv_results_['mean_test_score'],\n",
    "    'std_te': rf_random2_2020.cv_results_['std_test_score']\n",
    "})\n",
    "\n",
    "# Ten best combinations according to the mean \"test\" score\n",
    "# i.e. the mean score on the 5 validation folds\n",
    "rf_rand2_2020.sort_values(by='mean_te', ascending=False).head(10)"
   ]
  },
  {
   "cell_type": "markdown",
   "metadata": {},
   "source": [
    "The estimator without PCA seems to give slightly better results. Let's finetune this estimator with grid search, still using only a sample of the data."
   ]
  },
  {
   "cell_type": "code",
   "execution_count": 16,
   "metadata": {},
   "outputs": [
    {
     "name": "stdout",
     "output_type": "stream",
     "text": [
      "Fitting 5 folds for each of 20 candidates, totalling 100 fits\n"
     ]
    },
    {
     "name": "stderr",
     "output_type": "stream",
     "text": [
      "[Parallel(n_jobs=-1)]: Using backend LokyBackend with 8 concurrent workers.\n",
      "[Parallel(n_jobs=-1)]: Done  25 tasks      | elapsed:  2.4min\n",
      "[Parallel(n_jobs=-1)]: Done 100 out of 100 | elapsed:  9.5min finished\n"
     ]
    },
    {
     "data": {
      "text/html": [
       "<div>\n",
       "<style scoped>\n",
       "    .dataframe tbody tr th:only-of-type {\n",
       "        vertical-align: middle;\n",
       "    }\n",
       "\n",
       "    .dataframe tbody tr th {\n",
       "        vertical-align: top;\n",
       "    }\n",
       "\n",
       "    .dataframe thead th {\n",
       "        text-align: right;\n",
       "    }\n",
       "</style>\n",
       "<table border=\"1\" class=\"dataframe\">\n",
       "  <thead>\n",
       "    <tr style=\"text-align: right;\">\n",
       "      <th></th>\n",
       "      <th>trees</th>\n",
       "      <th>max_features</th>\n",
       "      <th>max_depth</th>\n",
       "      <th>min_samples_split</th>\n",
       "      <th>min_samples_leaf</th>\n",
       "      <th>mean_tr</th>\n",
       "      <th>mean_te</th>\n",
       "      <th>std_te</th>\n",
       "    </tr>\n",
       "  </thead>\n",
       "  <tbody>\n",
       "    <tr>\n",
       "      <th>1</th>\n",
       "      <td>300</td>\n",
       "      <td>auto</td>\n",
       "      <td>60</td>\n",
       "      <td>5</td>\n",
       "      <td>4</td>\n",
       "      <td>0.970687</td>\n",
       "      <td>0.935118</td>\n",
       "      <td>0.008409</td>\n",
       "    </tr>\n",
       "    <tr>\n",
       "      <th>13</th>\n",
       "      <td>300</td>\n",
       "      <td>auto</td>\n",
       "      <td>90</td>\n",
       "      <td>5</td>\n",
       "      <td>4</td>\n",
       "      <td>0.970736</td>\n",
       "      <td>0.935059</td>\n",
       "      <td>0.008137</td>\n",
       "    </tr>\n",
       "    <tr>\n",
       "      <th>14</th>\n",
       "      <td>400</td>\n",
       "      <td>auto</td>\n",
       "      <td>90</td>\n",
       "      <td>5</td>\n",
       "      <td>4</td>\n",
       "      <td>0.970603</td>\n",
       "      <td>0.934975</td>\n",
       "      <td>0.007991</td>\n",
       "    </tr>\n",
       "    <tr>\n",
       "      <th>0</th>\n",
       "      <td>200</td>\n",
       "      <td>auto</td>\n",
       "      <td>60</td>\n",
       "      <td>5</td>\n",
       "      <td>4</td>\n",
       "      <td>0.970764</td>\n",
       "      <td>0.934945</td>\n",
       "      <td>0.008665</td>\n",
       "    </tr>\n",
       "    <tr>\n",
       "      <th>15</th>\n",
       "      <td>500</td>\n",
       "      <td>auto</td>\n",
       "      <td>90</td>\n",
       "      <td>5</td>\n",
       "      <td>4</td>\n",
       "      <td>0.970735</td>\n",
       "      <td>0.934932</td>\n",
       "      <td>0.008257</td>\n",
       "    </tr>\n",
       "    <tr>\n",
       "      <th>5</th>\n",
       "      <td>300</td>\n",
       "      <td>auto</td>\n",
       "      <td>70</td>\n",
       "      <td>5</td>\n",
       "      <td>4</td>\n",
       "      <td>0.970658</td>\n",
       "      <td>0.934912</td>\n",
       "      <td>0.008254</td>\n",
       "    </tr>\n",
       "    <tr>\n",
       "      <th>3</th>\n",
       "      <td>500</td>\n",
       "      <td>auto</td>\n",
       "      <td>60</td>\n",
       "      <td>5</td>\n",
       "      <td>4</td>\n",
       "      <td>0.970713</td>\n",
       "      <td>0.934897</td>\n",
       "      <td>0.008158</td>\n",
       "    </tr>\n",
       "    <tr>\n",
       "      <th>9</th>\n",
       "      <td>300</td>\n",
       "      <td>auto</td>\n",
       "      <td>80</td>\n",
       "      <td>5</td>\n",
       "      <td>4</td>\n",
       "      <td>0.970691</td>\n",
       "      <td>0.934810</td>\n",
       "      <td>0.008041</td>\n",
       "    </tr>\n",
       "    <tr>\n",
       "      <th>6</th>\n",
       "      <td>400</td>\n",
       "      <td>auto</td>\n",
       "      <td>70</td>\n",
       "      <td>5</td>\n",
       "      <td>4</td>\n",
       "      <td>0.970667</td>\n",
       "      <td>0.934743</td>\n",
       "      <td>0.007889</td>\n",
       "    </tr>\n",
       "    <tr>\n",
       "      <th>10</th>\n",
       "      <td>400</td>\n",
       "      <td>auto</td>\n",
       "      <td>80</td>\n",
       "      <td>5</td>\n",
       "      <td>4</td>\n",
       "      <td>0.970609</td>\n",
       "      <td>0.934728</td>\n",
       "      <td>0.008335</td>\n",
       "    </tr>\n",
       "  </tbody>\n",
       "</table>\n",
       "</div>"
      ],
      "text/plain": [
       "   trees max_features max_depth min_samples_split min_samples_leaf   mean_tr  \\\n",
       "1    300         auto        60                 5                4  0.970687   \n",
       "13   300         auto        90                 5                4  0.970736   \n",
       "14   400         auto        90                 5                4  0.970603   \n",
       "0    200         auto        60                 5                4  0.970764   \n",
       "15   500         auto        90                 5                4  0.970735   \n",
       "5    300         auto        70                 5                4  0.970658   \n",
       "3    500         auto        60                 5                4  0.970713   \n",
       "9    300         auto        80                 5                4  0.970691   \n",
       "6    400         auto        70                 5                4  0.970667   \n",
       "10   400         auto        80                 5                4  0.970609   \n",
       "\n",
       "     mean_te    std_te  \n",
       "1   0.935118  0.008409  \n",
       "13  0.935059  0.008137  \n",
       "14  0.934975  0.007991  \n",
       "0   0.934945  0.008665  \n",
       "15  0.934932  0.008257  \n",
       "5   0.934912  0.008254  \n",
       "3   0.934897  0.008158  \n",
       "9   0.934810  0.008041  \n",
       "6   0.934743  0.007889  \n",
       "10  0.934728  0.008335  "
      ]
     },
     "execution_count": 16,
     "metadata": {},
     "output_type": "execute_result"
    }
   ],
   "source": [
    "# Finetuning RandomForest Estimator with grid search\n",
    "grid2020 = {\n",
    "    'rf__n_estimators': [200, 300, 400, 500],  \n",
    "    'rf__max_features': ['auto'],    \n",
    "    'rf__max_depth': [60, 70, 80, 90, None],\n",
    "    'rf__min_samples_split': [5],\n",
    "    'rf__min_samples_leaf': [4]\n",
    "}\n",
    "\n",
    "rf_grid_cv2020 = GridSearchCV(rf_estimator2, grid2020, cv=5, refit=True, return_train_score=True, verbose=2, n_jobs = -1)\n",
    "\n",
    "# Fit RandomForest estimator\n",
    "rf_grid_cv2020.fit(X2020_sample, y2020_sample)\n",
    "\n",
    "# Collect results in a DataFrame\n",
    "rf_grid_2020 = pd.DataFrame({\n",
    "    'trees': rf_grid_cv2020.cv_results_['param_rf__n_estimators'],\n",
    "    'max_features': rf_grid_cv2020.cv_results_['param_rf__max_features'],\n",
    "    'max_depth': rf_grid_cv2020.cv_results_['param_rf__max_depth'],\n",
    "    'min_samples_split': rf_grid_cv2020.cv_results_['param_rf__min_samples_split'],\n",
    "    'min_samples_leaf': rf_grid_cv2020.cv_results_['param_rf__min_samples_leaf'],\n",
    "    'mean_tr': rf_grid_cv2020.cv_results_['mean_train_score'],\n",
    "    'mean_te': rf_grid_cv2020.cv_results_['mean_test_score'],\n",
    "    'std_te': rf_grid_cv2020.cv_results_['std_test_score']\n",
    "})\n",
    "\n",
    "\n",
    "# Ten best combinations according to the mean \"test\" score\n",
    "# i.e. the mean score on the 5 validation folds\n",
    "rf_grid_2020.sort_values(by='mean_te', ascending=False).head(10)"
   ]
  },
  {
   "cell_type": "code",
   "execution_count": 17,
   "metadata": {},
   "outputs": [
    {
     "data": {
      "text/plain": [
       "Pipeline(steps=[('rf',\n",
       "                 RandomForestRegressor(max_depth=60, min_samples_leaf=4,\n",
       "                                       min_samples_split=5,\n",
       "                                       n_estimators=300))])"
      ]
     },
     "execution_count": 17,
     "metadata": {},
     "output_type": "execute_result"
    }
   ],
   "source": [
    "# Show best estimator\n",
    "rf_grid_cv2020.best_estimator_"
   ]
  },
  {
   "cell_type": "code",
   "execution_count": 18,
   "metadata": {},
   "outputs": [
    {
     "data": {
      "text/plain": [
       "Pipeline(steps=[('rf',\n",
       "                 RandomForestRegressor(max_depth=60, min_samples_leaf=4,\n",
       "                                       min_samples_split=5, n_estimators=300,\n",
       "                                       n_jobs=-1))])"
      ]
     },
     "execution_count": 18,
     "metadata": {},
     "output_type": "execute_result"
    }
   ],
   "source": [
    "# Modify best estimator\n",
    "final_rf_pipe_2020=rf_grid_cv2020.best_estimator_\n",
    "final_rf_pipe_2020.set_params(rf__n_jobs=-1)"
   ]
  },
  {
   "cell_type": "markdown",
   "metadata": {},
   "source": [
    "Let's fit a RandomForest regression on the whole dataset, calculate the predictions for the test set and calculate the model accuracy."
   ]
  },
  {
   "cell_type": "code",
   "execution_count": 19,
   "metadata": {},
   "outputs": [
    {
     "data": {
      "text/html": [
       "<div>\n",
       "<style scoped>\n",
       "    .dataframe tbody tr th:only-of-type {\n",
       "        vertical-align: middle;\n",
       "    }\n",
       "\n",
       "    .dataframe tbody tr th {\n",
       "        vertical-align: top;\n",
       "    }\n",
       "\n",
       "    .dataframe thead th {\n",
       "        text-align: right;\n",
       "    }\n",
       "</style>\n",
       "<table border=\"1\" class=\"dataframe\">\n",
       "  <thead>\n",
       "    <tr style=\"text-align: right;\">\n",
       "      <th></th>\n",
       "      <th>Model</th>\n",
       "      <th>MAE</th>\n",
       "      <th>RMSE</th>\n",
       "      <th>MSE</th>\n",
       "    </tr>\n",
       "  </thead>\n",
       "  <tbody>\n",
       "    <tr>\n",
       "      <th>0</th>\n",
       "      <td>RandomForest</td>\n",
       "      <td>233.630</td>\n",
       "      <td>2179.861</td>\n",
       "      <td>0.161</td>\n",
       "    </tr>\n",
       "  </tbody>\n",
       "</table>\n",
       "</div>"
      ],
      "text/plain": [
       "          Model      MAE      RMSE    MSE\n",
       "0  RandomForest  233.630  2179.861  0.161"
      ]
     },
     "execution_count": 19,
     "metadata": {},
     "output_type": "execute_result"
    }
   ],
   "source": [
    "# Create and fit RandomForest regression\n",
    "rf2020 = final_rf_pipe_2020\n",
    "rf2020.fit(X2020_tr, y2020_tr)\n",
    "\n",
    "# Calculate predictions\n",
    "y_pred_rf2020 = rf2020.predict(X2020_te) # Predictions for test data\n",
    "\n",
    "# Calculate model accuracy\n",
    "mae_rf2020 = MAE(np.expm1(y2020_te), np.expm1(y_pred_rf2020))\n",
    "rmse_rf2020=RMSE(np.expm1(y2020_te), np.expm1(y_pred_rf2020))\n",
    "mse_rf2020 = MSE(y2020_te, y_pred_rf2020)\n",
    "\n",
    "# Export model accuracy\n",
    "rf2020=pd.DataFrame([['RandomForest', '{:.3f}'.format(mae_rf2020), '{:.3f}'.format(rmse_rf2020), '{:.3f}'.format(mse_rf2020)]],\n",
    "                 columns=['Model', 'MAE', 'RMSE', 'MSE'])\n",
    "rf2020.to_csv(\"rf2020.csv\", encoding='utf-8', index=False)\n",
    "rf2020.head()"
   ]
  },
  {
   "cell_type": "code",
   "execution_count": 20,
   "metadata": {},
   "outputs": [],
   "source": [
    "# Add prediction to dataset\n",
    "df2020_pred['TOV_rf'] = np.expm1(y_pred_rf2020).tolist()"
   ]
  },
  {
   "cell_type": "markdown",
   "metadata": {},
   "source": [
    "### 2.2 Dataset ending 2019 <a name=\"2.2\"></a>"
   ]
  },
  {
   "cell_type": "markdown",
   "metadata": {},
   "source": [
    "For the dataset ending 2019, let's try to find the optimal parameters of a model without PCA with a random search over a grid of values, using a sample of 10000 entries."
   ]
  },
  {
   "cell_type": "code",
   "execution_count": 21,
   "metadata": {},
   "outputs": [
    {
     "name": "stdout",
     "output_type": "stream",
     "text": [
      "Fitting 5 folds for each of 100 candidates, totalling 500 fits\n"
     ]
    },
    {
     "name": "stderr",
     "output_type": "stream",
     "text": [
      "[Parallel(n_jobs=-1)]: Using backend LokyBackend with 8 concurrent workers.\n",
      "[Parallel(n_jobs=-1)]: Done  25 tasks      | elapsed:  1.8min\n",
      "[Parallel(n_jobs=-1)]: Done 146 tasks      | elapsed: 11.5min\n",
      "[Parallel(n_jobs=-1)]: Done 349 tasks      | elapsed: 29.4min\n",
      "[Parallel(n_jobs=-1)]: Done 500 out of 500 | elapsed: 43.1min finished\n"
     ]
    },
    {
     "data": {
      "text/plain": [
       "{'rf__n_estimators': 200,\n",
       " 'rf__min_samples_split': 2,\n",
       " 'rf__min_samples_leaf': 1,\n",
       " 'rf__max_features': 'auto',\n",
       " 'rf__max_depth': 30}"
      ]
     },
     "execution_count": 21,
     "metadata": {},
     "output_type": "execute_result"
    }
   ],
   "source": [
    "# Random search of parameters, using 5 fold cross validation, \n",
    "# search across 100 different combinations, and use all available cores\n",
    "rf_random_2019 = RandomizedSearchCV(estimator = rf_estimator2, param_distributions = random_grid2, n_iter = 100, cv = 5, return_train_score=True, verbose=2, random_state=42, n_jobs = -1)\n",
    "\n",
    "# Fit the random search model\n",
    "rf_random_2019.fit(X2019_sample, y2019_sample)\n",
    "\n",
    "rf_random_2019.best_params_"
   ]
  },
  {
   "cell_type": "code",
   "execution_count": 22,
   "metadata": {},
   "outputs": [
    {
     "data": {
      "text/html": [
       "<div>\n",
       "<style scoped>\n",
       "    .dataframe tbody tr th:only-of-type {\n",
       "        vertical-align: middle;\n",
       "    }\n",
       "\n",
       "    .dataframe tbody tr th {\n",
       "        vertical-align: top;\n",
       "    }\n",
       "\n",
       "    .dataframe thead th {\n",
       "        text-align: right;\n",
       "    }\n",
       "</style>\n",
       "<table border=\"1\" class=\"dataframe\">\n",
       "  <thead>\n",
       "    <tr style=\"text-align: right;\">\n",
       "      <th></th>\n",
       "      <th>trees</th>\n",
       "      <th>max_features</th>\n",
       "      <th>max_depth</th>\n",
       "      <th>min_samples_split</th>\n",
       "      <th>min_samples_leaf</th>\n",
       "      <th>mean_tr</th>\n",
       "      <th>mean_te</th>\n",
       "      <th>std_te</th>\n",
       "    </tr>\n",
       "  </thead>\n",
       "  <tbody>\n",
       "    <tr>\n",
       "      <th>57</th>\n",
       "      <td>200</td>\n",
       "      <td>auto</td>\n",
       "      <td>30</td>\n",
       "      <td>2</td>\n",
       "      <td>1</td>\n",
       "      <td>0.992580</td>\n",
       "      <td>0.948896</td>\n",
       "      <td>0.010611</td>\n",
       "    </tr>\n",
       "    <tr>\n",
       "      <th>37</th>\n",
       "      <td>300</td>\n",
       "      <td>auto</td>\n",
       "      <td>None</td>\n",
       "      <td>5</td>\n",
       "      <td>2</td>\n",
       "      <td>0.983985</td>\n",
       "      <td>0.948811</td>\n",
       "      <td>0.010307</td>\n",
       "    </tr>\n",
       "    <tr>\n",
       "      <th>36</th>\n",
       "      <td>800</td>\n",
       "      <td>auto</td>\n",
       "      <td>100</td>\n",
       "      <td>5</td>\n",
       "      <td>2</td>\n",
       "      <td>0.983978</td>\n",
       "      <td>0.948752</td>\n",
       "      <td>0.010453</td>\n",
       "    </tr>\n",
       "    <tr>\n",
       "      <th>22</th>\n",
       "      <td>600</td>\n",
       "      <td>auto</td>\n",
       "      <td>90</td>\n",
       "      <td>5</td>\n",
       "      <td>1</td>\n",
       "      <td>0.988749</td>\n",
       "      <td>0.948724</td>\n",
       "      <td>0.010385</td>\n",
       "    </tr>\n",
       "    <tr>\n",
       "      <th>61</th>\n",
       "      <td>900</td>\n",
       "      <td>auto</td>\n",
       "      <td>20</td>\n",
       "      <td>2</td>\n",
       "      <td>1</td>\n",
       "      <td>0.992495</td>\n",
       "      <td>0.948712</td>\n",
       "      <td>0.010488</td>\n",
       "    </tr>\n",
       "    <tr>\n",
       "      <th>18</th>\n",
       "      <td>600</td>\n",
       "      <td>auto</td>\n",
       "      <td>110</td>\n",
       "      <td>5</td>\n",
       "      <td>2</td>\n",
       "      <td>0.983975</td>\n",
       "      <td>0.948693</td>\n",
       "      <td>0.010544</td>\n",
       "    </tr>\n",
       "    <tr>\n",
       "      <th>72</th>\n",
       "      <td>500</td>\n",
       "      <td>auto</td>\n",
       "      <td>40</td>\n",
       "      <td>2</td>\n",
       "      <td>1</td>\n",
       "      <td>0.992647</td>\n",
       "      <td>0.948661</td>\n",
       "      <td>0.010346</td>\n",
       "    </tr>\n",
       "    <tr>\n",
       "      <th>16</th>\n",
       "      <td>1000</td>\n",
       "      <td>auto</td>\n",
       "      <td>10</td>\n",
       "      <td>10</td>\n",
       "      <td>1</td>\n",
       "      <td>0.976658</td>\n",
       "      <td>0.948652</td>\n",
       "      <td>0.009927</td>\n",
       "    </tr>\n",
       "    <tr>\n",
       "      <th>31</th>\n",
       "      <td>300</td>\n",
       "      <td>auto</td>\n",
       "      <td>None</td>\n",
       "      <td>10</td>\n",
       "      <td>1</td>\n",
       "      <td>0.983843</td>\n",
       "      <td>0.948608</td>\n",
       "      <td>0.009799</td>\n",
       "    </tr>\n",
       "    <tr>\n",
       "      <th>97</th>\n",
       "      <td>800</td>\n",
       "      <td>auto</td>\n",
       "      <td>30</td>\n",
       "      <td>2</td>\n",
       "      <td>1</td>\n",
       "      <td>0.992756</td>\n",
       "      <td>0.948604</td>\n",
       "      <td>0.010675</td>\n",
       "    </tr>\n",
       "  </tbody>\n",
       "</table>\n",
       "</div>"
      ],
      "text/plain": [
       "   trees max_features max_depth min_samples_split min_samples_leaf   mean_tr  \\\n",
       "57   200         auto        30                 2                1  0.992580   \n",
       "37   300         auto      None                 5                2  0.983985   \n",
       "36   800         auto       100                 5                2  0.983978   \n",
       "22   600         auto        90                 5                1  0.988749   \n",
       "61   900         auto        20                 2                1  0.992495   \n",
       "18   600         auto       110                 5                2  0.983975   \n",
       "72   500         auto        40                 2                1  0.992647   \n",
       "16  1000         auto        10                10                1  0.976658   \n",
       "31   300         auto      None                10                1  0.983843   \n",
       "97   800         auto        30                 2                1  0.992756   \n",
       "\n",
       "     mean_te    std_te  \n",
       "57  0.948896  0.010611  \n",
       "37  0.948811  0.010307  \n",
       "36  0.948752  0.010453  \n",
       "22  0.948724  0.010385  \n",
       "61  0.948712  0.010488  \n",
       "18  0.948693  0.010544  \n",
       "72  0.948661  0.010346  \n",
       "16  0.948652  0.009927  \n",
       "31  0.948608  0.009799  \n",
       "97  0.948604  0.010675  "
      ]
     },
     "execution_count": 22,
     "metadata": {},
     "output_type": "execute_result"
    }
   ],
   "source": [
    "# Collect results in a DataFrame\n",
    "rf_random_cv2019 = pd.DataFrame({\n",
    "    'trees': rf_random_2019.cv_results_['param_rf__n_estimators'],\n",
    "    'max_features': rf_random_2019.cv_results_['param_rf__max_features'],\n",
    "    'max_depth': rf_random_2019.cv_results_['param_rf__max_depth'],\n",
    "    'min_samples_split': rf_random_2019.cv_results_['param_rf__min_samples_split'],\n",
    "    'min_samples_leaf': rf_random_2019.cv_results_['param_rf__min_samples_leaf'],\n",
    "    'mean_tr': rf_random_2019.cv_results_['mean_train_score'],\n",
    "    'mean_te': rf_random_2019.cv_results_['mean_test_score'],\n",
    "    'std_te': rf_random_2019.cv_results_['std_test_score']\n",
    "})\n",
    "\n",
    "# Ten best combinations according to the mean \"test\" score\n",
    "# i.e. the mean score on the 5 validation folds\n",
    "rf_random_cv2019.sort_values(by='mean_te', ascending=False).head(10)"
   ]
  },
  {
   "cell_type": "markdown",
   "metadata": {},
   "source": [
    "Now, let's finetune the parameters of the model, still using only a sample of the data."
   ]
  },
  {
   "cell_type": "code",
   "execution_count": 23,
   "metadata": {},
   "outputs": [
    {
     "name": "stdout",
     "output_type": "stream",
     "text": [
      "Fitting 5 folds for each of 60 candidates, totalling 300 fits\n"
     ]
    },
    {
     "name": "stderr",
     "output_type": "stream",
     "text": [
      "[Parallel(n_jobs=-1)]: Using backend LokyBackend with 8 concurrent workers.\n",
      "[Parallel(n_jobs=-1)]: Done  25 tasks      | elapsed:  3.1min\n",
      "[Parallel(n_jobs=-1)]: Done 146 tasks      | elapsed: 17.7min\n",
      "[Parallel(n_jobs=-1)]: Done 300 out of 300 | elapsed: 36.3min finished\n"
     ]
    },
    {
     "data": {
      "text/html": [
       "<div>\n",
       "<style scoped>\n",
       "    .dataframe tbody tr th:only-of-type {\n",
       "        vertical-align: middle;\n",
       "    }\n",
       "\n",
       "    .dataframe tbody tr th {\n",
       "        vertical-align: top;\n",
       "    }\n",
       "\n",
       "    .dataframe thead th {\n",
       "        text-align: right;\n",
       "    }\n",
       "</style>\n",
       "<table border=\"1\" class=\"dataframe\">\n",
       "  <thead>\n",
       "    <tr style=\"text-align: right;\">\n",
       "      <th></th>\n",
       "      <th>trees</th>\n",
       "      <th>max_features</th>\n",
       "      <th>max_depth</th>\n",
       "      <th>min_samples_split</th>\n",
       "      <th>min_samples_leaf</th>\n",
       "      <th>mean_tr</th>\n",
       "      <th>mean_te</th>\n",
       "      <th>std_te</th>\n",
       "    </tr>\n",
       "  </thead>\n",
       "  <tbody>\n",
       "    <tr>\n",
       "      <th>18</th>\n",
       "      <td>600</td>\n",
       "      <td>auto</td>\n",
       "      <td>100</td>\n",
       "      <td>5</td>\n",
       "      <td>2</td>\n",
       "      <td>0.984068</td>\n",
       "      <td>0.948919</td>\n",
       "      <td>0.010299</td>\n",
       "    </tr>\n",
       "    <tr>\n",
       "      <th>20</th>\n",
       "      <td>100</td>\n",
       "      <td>auto</td>\n",
       "      <td>110</td>\n",
       "      <td>2</td>\n",
       "      <td>1</td>\n",
       "      <td>0.992511</td>\n",
       "      <td>0.948898</td>\n",
       "      <td>0.010474</td>\n",
       "    </tr>\n",
       "    <tr>\n",
       "      <th>5</th>\n",
       "      <td>100</td>\n",
       "      <td>auto</td>\n",
       "      <td>100</td>\n",
       "      <td>5</td>\n",
       "      <td>1</td>\n",
       "      <td>0.988383</td>\n",
       "      <td>0.948884</td>\n",
       "      <td>0.010172</td>\n",
       "    </tr>\n",
       "    <tr>\n",
       "      <th>27</th>\n",
       "      <td>300</td>\n",
       "      <td>auto</td>\n",
       "      <td>110</td>\n",
       "      <td>5</td>\n",
       "      <td>1</td>\n",
       "      <td>0.988641</td>\n",
       "      <td>0.948882</td>\n",
       "      <td>0.010386</td>\n",
       "    </tr>\n",
       "    <tr>\n",
       "      <th>14</th>\n",
       "      <td>700</td>\n",
       "      <td>auto</td>\n",
       "      <td>100</td>\n",
       "      <td>2</td>\n",
       "      <td>2</td>\n",
       "      <td>0.985406</td>\n",
       "      <td>0.948859</td>\n",
       "      <td>0.010178</td>\n",
       "    </tr>\n",
       "    <tr>\n",
       "      <th>12</th>\n",
       "      <td>300</td>\n",
       "      <td>auto</td>\n",
       "      <td>100</td>\n",
       "      <td>2</td>\n",
       "      <td>2</td>\n",
       "      <td>0.985449</td>\n",
       "      <td>0.948854</td>\n",
       "      <td>0.010473</td>\n",
       "    </tr>\n",
       "    <tr>\n",
       "      <th>31</th>\n",
       "      <td>200</td>\n",
       "      <td>auto</td>\n",
       "      <td>110</td>\n",
       "      <td>2</td>\n",
       "      <td>2</td>\n",
       "      <td>0.985365</td>\n",
       "      <td>0.948826</td>\n",
       "      <td>0.010825</td>\n",
       "    </tr>\n",
       "    <tr>\n",
       "      <th>49</th>\n",
       "      <td>700</td>\n",
       "      <td>auto</td>\n",
       "      <td>None</td>\n",
       "      <td>5</td>\n",
       "      <td>1</td>\n",
       "      <td>0.988680</td>\n",
       "      <td>0.948755</td>\n",
       "      <td>0.010257</td>\n",
       "    </tr>\n",
       "    <tr>\n",
       "      <th>13</th>\n",
       "      <td>600</td>\n",
       "      <td>auto</td>\n",
       "      <td>100</td>\n",
       "      <td>2</td>\n",
       "      <td>2</td>\n",
       "      <td>0.985365</td>\n",
       "      <td>0.948754</td>\n",
       "      <td>0.010527</td>\n",
       "    </tr>\n",
       "    <tr>\n",
       "      <th>39</th>\n",
       "      <td>700</td>\n",
       "      <td>auto</td>\n",
       "      <td>110</td>\n",
       "      <td>5</td>\n",
       "      <td>2</td>\n",
       "      <td>0.984082</td>\n",
       "      <td>0.948750</td>\n",
       "      <td>0.010464</td>\n",
       "    </tr>\n",
       "  </tbody>\n",
       "</table>\n",
       "</div>"
      ],
      "text/plain": [
       "   trees max_features max_depth min_samples_split min_samples_leaf   mean_tr  \\\n",
       "18   600         auto       100                 5                2  0.984068   \n",
       "20   100         auto       110                 2                1  0.992511   \n",
       "5    100         auto       100                 5                1  0.988383   \n",
       "27   300         auto       110                 5                1  0.988641   \n",
       "14   700         auto       100                 2                2  0.985406   \n",
       "12   300         auto       100                 2                2  0.985449   \n",
       "31   200         auto       110                 2                2  0.985365   \n",
       "49   700         auto      None                 5                1  0.988680   \n",
       "13   600         auto       100                 2                2  0.985365   \n",
       "39   700         auto       110                 5                2  0.984082   \n",
       "\n",
       "     mean_te    std_te  \n",
       "18  0.948919  0.010299  \n",
       "20  0.948898  0.010474  \n",
       "5   0.948884  0.010172  \n",
       "27  0.948882  0.010386  \n",
       "14  0.948859  0.010178  \n",
       "12  0.948854  0.010473  \n",
       "31  0.948826  0.010825  \n",
       "49  0.948755  0.010257  \n",
       "13  0.948754  0.010527  \n",
       "39  0.948750  0.010464  "
      ]
     },
     "execution_count": 23,
     "metadata": {},
     "output_type": "execute_result"
    }
   ],
   "source": [
    "# Create a second cross-validation object for fine-tuning\n",
    "grid2019 = {\n",
    "    'rf__n_estimators': [100, 200, 300, 600, 700],  \n",
    "    'rf__max_features': ['auto'],    \n",
    "    'rf__max_depth': [100, 110, None],\n",
    "    'rf__min_samples_split': [2, 5],\n",
    "    'rf__min_samples_leaf': [1, 2]\n",
    "}\n",
    "rf_grid_cv2019 = GridSearchCV(rf_estimator2, grid2019, cv=5, refit=True, return_train_score=True, verbose=2, n_jobs = -1)\n",
    "\n",
    "# Fit RandomForest estimator\n",
    "rf_grid_cv2019.fit(X2019_sample, y2019_sample)\n",
    "\n",
    "# Collect results in a DataFrame\n",
    "rf_grid_2019 = pd.DataFrame({\n",
    "    'trees': rf_grid_cv2019.cv_results_['param_rf__n_estimators'],\n",
    "    'max_features': rf_grid_cv2019.cv_results_['param_rf__max_features'],\n",
    "    'max_depth': rf_grid_cv2019.cv_results_['param_rf__max_depth'],\n",
    "    'min_samples_split': rf_grid_cv2019.cv_results_['param_rf__min_samples_split'],\n",
    "    'min_samples_leaf': rf_grid_cv2019.cv_results_['param_rf__min_samples_leaf'],\n",
    "    'mean_tr': rf_grid_cv2019.cv_results_['mean_train_score'],\n",
    "    'mean_te': rf_grid_cv2019.cv_results_['mean_test_score'],\n",
    "    'std_te': rf_grid_cv2019.cv_results_['std_test_score']\n",
    "})\n",
    "\n",
    "\n",
    "# Ten best combinations according to the mean \"test\" score\n",
    "# i.e. the mean score on the 5 validation folds\n",
    "rf_grid_2019.sort_values(by='mean_te', ascending=False).head(10)"
   ]
  },
  {
   "cell_type": "code",
   "execution_count": 24,
   "metadata": {},
   "outputs": [
    {
     "data": {
      "text/plain": [
       "Pipeline(steps=[('rf',\n",
       "                 RandomForestRegressor(max_depth=100, min_samples_leaf=2,\n",
       "                                       min_samples_split=5,\n",
       "                                       n_estimators=600))])"
      ]
     },
     "execution_count": 24,
     "metadata": {},
     "output_type": "execute_result"
    }
   ],
   "source": [
    "# Show best estimator\n",
    "rf_grid_cv2019.best_estimator_"
   ]
  },
  {
   "cell_type": "code",
   "execution_count": 25,
   "metadata": {},
   "outputs": [
    {
     "data": {
      "text/plain": [
       "Pipeline(steps=[('rf',\n",
       "                 RandomForestRegressor(max_depth=100, min_samples_leaf=2,\n",
       "                                       min_samples_split=5, n_estimators=600,\n",
       "                                       n_jobs=-1))])"
      ]
     },
     "execution_count": 25,
     "metadata": {},
     "output_type": "execute_result"
    }
   ],
   "source": [
    "# Modify best estimator\n",
    "final_rf_pipe_2019=rf_grid_cv2019.best_estimator_\n",
    "final_rf_pipe_2019.set_params(rf__n_jobs=-1)"
   ]
  },
  {
   "cell_type": "markdown",
   "metadata": {},
   "source": [
    "Let's fit a RandomForest regression on the whole dataset, calculate the predictions for the test set and calculate the model accuracy."
   ]
  },
  {
   "cell_type": "code",
   "execution_count": 26,
   "metadata": {},
   "outputs": [
    {
     "data": {
      "text/html": [
       "<div>\n",
       "<style scoped>\n",
       "    .dataframe tbody tr th:only-of-type {\n",
       "        vertical-align: middle;\n",
       "    }\n",
       "\n",
       "    .dataframe tbody tr th {\n",
       "        vertical-align: top;\n",
       "    }\n",
       "\n",
       "    .dataframe thead th {\n",
       "        text-align: right;\n",
       "    }\n",
       "</style>\n",
       "<table border=\"1\" class=\"dataframe\">\n",
       "  <thead>\n",
       "    <tr style=\"text-align: right;\">\n",
       "      <th></th>\n",
       "      <th>Model</th>\n",
       "      <th>MAE</th>\n",
       "      <th>RMSE</th>\n",
       "      <th>MSE</th>\n",
       "    </tr>\n",
       "  </thead>\n",
       "  <tbody>\n",
       "    <tr>\n",
       "      <th>0</th>\n",
       "      <td>RandomForest</td>\n",
       "      <td>195.935</td>\n",
       "      <td>1974.344</td>\n",
       "      <td>0.129</td>\n",
       "    </tr>\n",
       "  </tbody>\n",
       "</table>\n",
       "</div>"
      ],
      "text/plain": [
       "          Model      MAE      RMSE    MSE\n",
       "0  RandomForest  195.935  1974.344  0.129"
      ]
     },
     "execution_count": 26,
     "metadata": {},
     "output_type": "execute_result"
    }
   ],
   "source": [
    "# Create and fit final RandomForestRegressor\n",
    "rf2019 = final_rf_pipe_2019\n",
    "rf2019.fit(X2019_tr, y2019_tr)\n",
    "\n",
    "rf2019.fit(X2019_tr, y2019_tr)\n",
    "\n",
    "# Calculate predictions\n",
    "y_pred_rf2019 = rf2019.predict(X2019_te) # Predictions for test data\n",
    "\n",
    "# Calculate model accuracy\n",
    "mae_rf2019 = MAE(np.expm1(y2019_te), np.expm1(y_pred_rf2019))\n",
    "rmse_rf2019=RMSE(np.expm1(y2019_te), np.expm1(y_pred_rf2019))\n",
    "mse_rf2019 = MSE(y2019_te, y_pred_rf2019)\n",
    "\n",
    "# Export model accuracy\n",
    "rf2019=pd.DataFrame([['RandomForest', '{:.3f}'.format(mae_rf2019), '{:.3f}'.format(rmse_rf2019), '{:.3f}'.format(mse_rf2019)]],\n",
    "                 columns=['Model', 'MAE', 'RMSE', 'MSE'])\n",
    "rf2019.to_csv(\"rf2019.csv\", encoding='utf-8', index=False)\n",
    "rf2019.head()"
   ]
  },
  {
   "cell_type": "code",
   "execution_count": 27,
   "metadata": {},
   "outputs": [],
   "source": [
    "# Add prediction to dataset\n",
    "df2019_pred['TOV_rf'] = np.expm1(y_pred_rf2019).tolist()"
   ]
  },
  {
   "cell_type": "markdown",
   "metadata": {},
   "source": [
    "### 2.3 Model comparison <a name=\"2.3\"></a>"
   ]
  },
  {
   "cell_type": "code",
   "execution_count": 28,
   "metadata": {},
   "outputs": [
    {
     "data": {
      "image/png": "[encoded data removed]",
      "text/plain": [
       "<Figure size 432x288 with 1 Axes>"
      ]
     },
     "metadata": {
      "needs_background": "light"
     },
     "output_type": "display_data"
    }
   ],
   "source": [
    "# Comparison\n",
    "mae_values = [mae_baseline2020, mae_baseline2019, mae_rf2020, mae_rf2019]\n",
    "titles = ['baseline2020', 'baseline2019', 'rf2020', 'rf2019']\n",
    "\n",
    "xcor = np.arange(len(mae_values))\n",
    "plt.bar(xcor, mae_values)\n",
    "plt.xticks(xcor, titles)\n",
    "plt.title('Model comparison')\n",
    "plt.ylabel('MAE (in CHF)')\n",
    "plt.show()"
   ]
  },
  {
   "cell_type": "code",
   "execution_count": 29,
   "metadata": {},
   "outputs": [
    {
     "data": {
      "image/png": "[encoded data removed]",
      "text/plain": [
       "<Figure size 1080x360 with 3 Axes>"
      ]
     },
     "metadata": {
      "needs_background": "light"
     },
     "output_type": "display_data"
    }
   ],
   "source": [
    "plot_prediction('rf',df2020_pred,2020,'RandomForest')"
   ]
  },
  {
   "cell_type": "code",
   "execution_count": 30,
   "metadata": {},
   "outputs": [
    {
     "data": {
      "image/png": "[encoded data removed]",
      "text/plain": [
       "<Figure size 1080x360 with 3 Axes>"
      ]
     },
     "metadata": {
      "needs_background": "light"
     },
     "output_type": "display_data"
    }
   ],
   "source": [
    "plot_prediction('rf',df2019_pred,2019,'RandomForest')"
   ]
  },
  {
   "cell_type": "code",
   "execution_count": 31,
   "metadata": {},
   "outputs": [],
   "source": [
    "# Exporting datasets with predictions\n",
    "df2020_pred.to_csv(\"df2020_pred.csv\", encoding='utf-8', index=True)\n",
    "df2019_pred.to_csv(\"df2019_pred.csv\", encoding='utf-8', index=True)"
   ]
  },
  {
   "cell_type": "markdown",
   "metadata": {},
   "source": [
    "The RandomForest regression seems to give the best results so far, especially for the large enterprises. The model seems to be less able to predict turnover of 0. This might be due to the log1p transformation. The model with data only until 2019 gives only slightly better results than the model using all the data, so the model seems to capture well the effects of the coronavirus pandemic. "
   ]
  },
  {
   "cell_type": "code",
   "execution_count": null,
   "metadata": {},
   "outputs": [],
   "source": []
  }
 ],
 "metadata": {
  "kernelspec": {
   "display_name": "Python 3",
   "language": "python",
   "name": "python3"
  },
  "language_info": {
   "codemirror_mode": {
    "name": "ipython",
    "version": 3
   },
   "file_extension": ".py",
   "mimetype": "text/x-python",
   "name": "python",
   "nbconvert_exporter": "python",
   "pygments_lexer": "ipython3",
   "version": "3.6.11"
  }
 },
 "nbformat": 4,
 "nbformat_minor": 4
}
