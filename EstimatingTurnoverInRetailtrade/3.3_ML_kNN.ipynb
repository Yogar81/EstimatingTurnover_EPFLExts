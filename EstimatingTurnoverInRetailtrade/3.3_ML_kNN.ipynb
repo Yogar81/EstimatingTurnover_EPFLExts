{
 "cells": [
  {
   "cell_type": "markdown",
   "metadata": {},
   "source": [
    "# Estimating Turnover in Retail Trade\n",
    "\n",
    "### Capstone Project by Christian Furger "
   ]
  },
  {
   "cell_type": "markdown",
   "metadata": {},
   "source": [
    "## Machine Learning - kNN Regression"
   ]
  },
  {
   "cell_type": "markdown",
   "metadata": {},
   "source": [
    "In this notebook, a kNN regressor is tuned. As a baseline to evaluate the model, turnover one year before is used.\n",
    "The regressor is tuned once with a dataset ending 2019 (before the coronavirus pandemic) and once with data up until 2020. At the end of this notebook, a quick comparison of the kNN models and the baseline is done. In a final notebook (3.6), the different models are compared with each other."
   ]
  },
  {
   "cell_type": "code",
   "execution_count": 1,
   "metadata": {},
   "outputs": [],
   "source": [
    "# Import statements\n",
    "import os\n",
    "import numpy as np\n",
    "import pandas as pd\n",
    "%matplotlib inline\n",
    "import matplotlib.pyplot as plt\n",
    "import seaborn as sns"
   ]
  },
  {
   "cell_type": "markdown",
   "metadata": {},
   "source": [
    "## 1. Data Preparation <a name=\"1\"></a>"
   ]
  },
  {
   "cell_type": "markdown",
   "metadata": {},
   "source": [
    "### 1.1 Import Data <a name=\"1.1\"></a>"
   ]
  },
  {
   "cell_type": "code",
   "execution_count": 2,
   "metadata": {},
   "outputs": [
    {
     "name": "stdout",
     "output_type": "stream",
     "text": [
      "df2020_pred: (43180, 25)\n",
      "df2019_pred: (37858, 25)\n"
     ]
    }
   ],
   "source": [
    "# Import datasets to compare the predictions\n",
    "df2020_pred = pd.read_csv('df2020_pred.csv', index_col = ('OID', 'Date'), dtype = {'Stratum_Noga' : object, 'Noga_Enterprise' : object, 'Hist_Limit' : object})\n",
    "df2019_pred = pd.read_csv('df2019_pred.csv', index_col = ('OID', 'Date'), dtype = {'Stratum_Noga' : object, 'Noga_Enterprise' : object, 'Hist_Limit' : object})\n",
    "\n",
    "print('df2020_pred:', df2020_pred.shape)\n",
    "print('df2019_pred:', df2019_pred.shape)"
   ]
  },
  {
   "cell_type": "code",
   "execution_count": 3,
   "metadata": {},
   "outputs": [
    {
     "name": "stdout",
     "output_type": "stream",
     "text": [
      "X2020_tr: (100753, 167)\n",
      "X2020_tr_rescaled: (100753, 167)\n",
      "y2020_tr: (100753,)\n",
      "X2020_te: (43180, 167)\n",
      "X2020_te_rescaled: (43180, 167)\n",
      "y2020_te: (43180,)\n"
     ]
    }
   ],
   "source": [
    "# Load the npz files 2020\n",
    "with np.load('train_data_2020.npz', allow_pickle=False) as train_2020:\n",
    "    train_data_2020 = dict(train_2020.items())\n",
    "with np.load('train_data_rescaled_2020.npz', allow_pickle=False) as train_rescaled_2020:\n",
    "    train_data_rescaled_2020 = dict(train_rescaled_2020.items())\n",
    "with np.load('test_data_2020.npz', allow_pickle=False) as test_2020:\n",
    "    test_data_2020 = dict(test_2020.items())\n",
    "with np.load('test_data_rescaled_2020.npz', allow_pickle=False) as test_rescaled_2020:\n",
    "    test_data_rescaled_2020 = dict(test_rescaled_2020.items())\n",
    "    \n",
    "# Create X/y arrays\n",
    "X2020_tr = train_data_2020['features']\n",
    "X2020_tr_rescaled = train_data_rescaled_2020['features']\n",
    "y2020_tr = train_data_2020['targets']\n",
    "\n",
    "X2020_te = test_data_2020['features']\n",
    "X2020_te_rescaled = test_data_rescaled_2020['features']\n",
    "y2020_te = test_data_2020['targets']\n",
    "\n",
    "print('X2020_tr:', X2020_tr.shape)\n",
    "print('X2020_tr_rescaled:', X2020_tr_rescaled.shape)\n",
    "print('y2020_tr:', y2020_tr.shape)\n",
    "\n",
    "print('X2020_te:', X2020_te.shape)\n",
    "print('X2020_te_rescaled:', X2020_te_rescaled.shape)\n",
    "print('y2020_te:', y2020_te.shape)"
   ]
  },
  {
   "cell_type": "code",
   "execution_count": 4,
   "metadata": {},
   "outputs": [
    {
     "name": "stdout",
     "output_type": "stream",
     "text": [
      "X2019_tr: (88334, 165)\n",
      "X2019_tr_rescaled: (88334, 165)\n",
      "y2019_tr: (88334,)\n",
      "X2019_te: (37858, 165)\n",
      "X2019_te_rescaled: (37858, 165)\n",
      "y2019_te: (37858,)\n"
     ]
    }
   ],
   "source": [
    "# Load the npz files 2019\n",
    "with np.load('train_data_2019.npz', allow_pickle=False) as train_2019:\n",
    "    train_data_2019 = dict(train_2019.items())\n",
    "with np.load('train_data_rescaled_2019.npz', allow_pickle=False) as train_rescaled_2019:\n",
    "    train_data_rescaled_2019 = dict(train_rescaled_2019.items())\n",
    "with np.load('test_data_2019.npz', allow_pickle=False) as test_2019:\n",
    "    test_data_2019 = dict(test_2019.items())\n",
    "with np.load('test_data_rescaled_2019.npz', allow_pickle=False) as test_rescaled_2019:\n",
    "    test_data_rescaled_2019 = dict(test_rescaled_2019.items())\n",
    "    \n",
    "# Create X/y arrays\n",
    "X2019_tr = train_data_2019['features']\n",
    "X2019_tr_rescaled = train_data_rescaled_2019['features']\n",
    "y2019_tr = train_data_2019['targets']\n",
    "\n",
    "X2019_te = test_data_2019['features']\n",
    "X2019_te_rescaled = test_data_rescaled_2019['features']\n",
    "y2019_te = test_data_2019['targets']\n",
    "\n",
    "print('X2019_tr:', X2019_tr.shape)\n",
    "print('X2019_tr_rescaled:', X2019_tr_rescaled.shape)\n",
    "print('y2019_tr:', y2019_tr.shape)\n",
    "\n",
    "print('X2019_te:', X2019_te.shape)\n",
    "print('X2019_te_rescaled:', X2019_te_rescaled.shape)\n",
    "print('y2019_te:', y2019_te.shape)"
   ]
  },
  {
   "cell_type": "markdown",
   "metadata": {},
   "source": [
    "### 1.2 Create Baseline <a name=\"1.2\"></a>"
   ]
  },
  {
   "cell_type": "code",
   "execution_count": 5,
   "metadata": {},
   "outputs": [],
   "source": [
    "# Compare models with mean absolute error (MAE), mean squared error (MSE) and root mean squared error (RMSE)\n",
    "from sklearn.metrics import mean_absolute_error as MAE\n",
    "from sklearn.metrics import mean_squared_error as MSE\n",
    "\n",
    "def RMSE(y, y_pred):\n",
    "    return np.sqrt(np.mean(np.square(y-y_pred)))"
   ]
  },
  {
   "cell_type": "code",
   "execution_count": 6,
   "metadata": {},
   "outputs": [
    {
     "name": "stdout",
     "output_type": "stream",
     "text": [
      "Baseline (2020) MAE (in CHF): 3145.04\n",
      "Baseline (2020) RMSE: 40103.069\n",
      "Baseline (2020) MSE: 15.322\n"
     ]
    }
   ],
   "source": [
    "# Baseline 2020: turnover one year before\n",
    "# Load the npz files\n",
    "with np.load('y2020_te_baseline.npz', allow_pickle=False) as baseline_2020:\n",
    "    y2020_baseline = dict(baseline_2020.items())\n",
    "\n",
    "y2020_te_baseline = y2020_baseline['targets']    \n",
    "\n",
    "mae_baseline2020 = MAE(np.expm1(y2020_te), np.expm1(y2020_te_baseline))\n",
    "rmse_baseline2020=RMSE(np.expm1(y2020_te), np.expm1(y2020_te_baseline))\n",
    "mse_baseline2020 = MSE(y2020_te, y2020_te_baseline)\n",
    "\n",
    "print('Baseline (2020) MAE (in CHF): {:.2f}'.format(mae_baseline2020))\n",
    "print('Baseline (2020) RMSE: {:.3f}'.format(rmse_baseline2020))\n",
    "print('Baseline (2020) MSE: {:.3f}'.format(mse_baseline2020))"
   ]
  },
  {
   "cell_type": "code",
   "execution_count": 7,
   "metadata": {},
   "outputs": [
    {
     "name": "stdout",
     "output_type": "stream",
     "text": [
      "Baseline (2019) MAE (in CHF): 2956.58\n",
      "Baseline (2019) RMSE: 38434.627\n",
      "Baseline (2019) MSE: 15.130\n"
     ]
    }
   ],
   "source": [
    "# Baseline 2019: turnover one year before\n",
    "# Load the npz files\n",
    "with np.load('y2019_te_baseline.npz', allow_pickle=False) as baseline_2019:\n",
    "    y2019_baseline = dict(baseline_2019.items())\n",
    "\n",
    "y2019_te_baseline = y2019_baseline['targets']    \n",
    "\n",
    "mae_baseline2019 = MAE(np.expm1(y2019_te), np.expm1(y2019_te_baseline))\n",
    "rmse_baseline2019=RMSE(np.expm1(y2019_te), np.expm1(y2019_te_baseline))\n",
    "mse_baseline2019 = MSE(y2019_te, y2019_te_baseline)\n",
    "\n",
    "print('Baseline (2019) MAE (in CHF): {:.2f}'.format(mae_baseline2019))\n",
    "print('Baseline (2019) RMSE: {:.3f}'.format(rmse_baseline2019))\n",
    "print('Baseline (2019) MSE: {:.3f}'.format(mse_baseline2019))"
   ]
  },
  {
   "cell_type": "code",
   "execution_count": 8,
   "metadata": {},
   "outputs": [],
   "source": [
    "# Function to plot predicted vs real values\n",
    "def plot_prediction(model,df,year,title):\n",
    "\n",
    "    size=['small','medium','large']\n",
    "    colors = ['red', 'green', 'blue']\n",
    "\n",
    "    fig, axes = plt.subplots(1,len(size),figsize=(5*len(size),5))\n",
    "    fig.suptitle(title+' ('+str(year)+'): Scatter plots of real vs predicted turnover (log)',fontsize=20)\n",
    "\n",
    "    for i in range(0,3):\n",
    "        size_df=df[df['Stratum_Size']==i+1]\n",
    "        axes[i].scatter(np.log1p(size_df['TOV']), np.log1p(size_df['TOV_'+model]), label='', color=colors[i], s=1)\n",
    "        axes[i].plot([0,14],[0,14], color='black', linewidth=1)\n",
    "\n",
    "        #obtain a (slope) and b(intercept) of linear regression line\n",
    "        a, b = np.polyfit(np.log1p(size_df['TOV']), np.log1p(size_df['TOV_'+model]), 1)\n",
    "        \n",
    "        # Generate a hundred values between 0 and 14\n",
    "        x_values = np.linspace(0, 14, num=100)\n",
    "        # Compute the associate y values\n",
    "        y_values = a*x_values + b\n",
    "        \n",
    "        #add linear regression line to scatterplot          \n",
    "        axes[i].plot(x_values, y_values, color=colors[i], label='slope: {:.2f}'.format(a))\n",
    "           \n",
    "        axes[i].set_title(size[i])\n",
    "        axes[i].set_xlabel('real')\n",
    "        axes[i].set_ylabel('predicted')\n",
    "        axes[i].legend()\n",
    "\n",
    "    plt.show()"
   ]
  },
  {
   "cell_type": "markdown",
   "metadata": {},
   "source": [
    "## 2. Model fitting <a name=\"2\"></a>"
   ]
  },
  {
   "cell_type": "code",
   "execution_count": 9,
   "metadata": {},
   "outputs": [
    {
     "name": "stdout",
     "output_type": "stream",
     "text": [
      "{'knn__algorithm': ['auto', 'kd_tree'],\n",
      " 'knn__n_neighbors': array([ 1,  2,  3,  4,  5,  6,  7,  8,  9, 10, 11, 12, 13, 14, 15, 16, 17,\n",
      "       18, 19, 20]),\n",
      " 'knn__p': [1, 2],\n",
      " 'knn__weights': ['uniform', 'distance'],\n",
      " 'pca__n_components': [1, 2, 5, 10, 20, 50, 100]}\n"
     ]
    }
   ],
   "source": [
    "from sklearn.neighbors import KNeighborsRegressor\n",
    "from sklearn.preprocessing import StandardScaler\n",
    "from sklearn.pipeline import Pipeline\n",
    "from sklearn.decomposition import PCA\n",
    "from sklearn.model_selection import GridSearchCV\n",
    "from sklearn.model_selection import RandomizedSearchCV\n",
    "from pprint import pprint\n",
    "\n",
    "# Create a k-NN pipeline\n",
    "knn_estimator = Pipeline([\n",
    "    ('scaler', StandardScaler()),\n",
    "    ('pca', PCA()),\n",
    "    ('knn', KNeighborsRegressor())\n",
    "])\n",
    "\n",
    "# Number of components for PCA\n",
    "n_components = [1,2,5,10,20,50,100]\n",
    "# Number of neighbors for kNN\n",
    "n_neighbors = np.arange(1, 21, step=1)\n",
    "# Weight function for kNN\n",
    "weights = ['uniform', 'distance']\n",
    "# Power parameter for the Minkowski metric\n",
    "p = [1, 2]\n",
    "# Algorithm\n",
    "algorithm = ['auto', 'kd_tree']\n",
    "\n",
    "# Create the random grid\n",
    "random_grid = {'pca__n_components': n_components,\n",
    "               'knn__n_neighbors': n_neighbors,\n",
    "               'knn__weights': weights,\n",
    "               'knn__p': p,\n",
    "               'knn__algorithm': algorithm}\n",
    "pprint(random_grid)"
   ]
  },
  {
   "cell_type": "markdown",
   "metadata": {},
   "source": [
    "### 2.1 Dataset ending 2020 <a name=\"2.1\"></a>"
   ]
  },
  {
   "cell_type": "markdown",
   "metadata": {},
   "source": [
    "First, let's try to find the optimal parameters of the model with a random search over a grid of values."
   ]
  },
  {
   "cell_type": "code",
   "execution_count": 10,
   "metadata": {},
   "outputs": [
    {
     "name": "stdout",
     "output_type": "stream",
     "text": [
      "Fitting 3 folds for each of 100 candidates, totalling 300 fits\n"
     ]
    },
    {
     "name": "stderr",
     "output_type": "stream",
     "text": [
      "[Parallel(n_jobs=-1)]: Using backend LokyBackend with 8 concurrent workers.\n",
      "[Parallel(n_jobs=-1)]: Done  25 tasks      | elapsed: 14.4min\n",
      "[Parallel(n_jobs=-1)]: Done 146 tasks      | elapsed: 70.8min\n",
      "[Parallel(n_jobs=-1)]: Done 300 out of 300 | elapsed: 140.6min finished\n"
     ]
    },
    {
     "data": {
      "text/plain": [
       "{'pca__n_components': 10,\n",
       " 'knn__weights': 'distance',\n",
       " 'knn__p': 1,\n",
       " 'knn__n_neighbors': 11,\n",
       " 'knn__algorithm': 'kd_tree'}"
      ]
     },
     "execution_count": 10,
     "metadata": {},
     "output_type": "execute_result"
    }
   ],
   "source": [
    "# Random search of parameters, using 3 fold cross validation, \n",
    "# search across 100 different combinations, and use all available cores\n",
    "knn_random_2020 = RandomizedSearchCV(estimator = knn_estimator, param_distributions = random_grid, n_iter = 100, cv = 3, verbose=2, random_state=42, n_jobs = -1)\n",
    "\n",
    "# Fit the random search model\n",
    "knn_random_2020.fit(X2020_tr, y2020_tr)\n",
    "\n",
    "knn_random_2020.best_params_"
   ]
  },
  {
   "cell_type": "code",
   "execution_count": 11,
   "metadata": {},
   "outputs": [
    {
     "data": {
      "text/html": [
       "<div>\n",
       "<style scoped>\n",
       "    .dataframe tbody tr th:only-of-type {\n",
       "        vertical-align: middle;\n",
       "    }\n",
       "\n",
       "    .dataframe tbody tr th {\n",
       "        vertical-align: top;\n",
       "    }\n",
       "\n",
       "    .dataframe thead th {\n",
       "        text-align: right;\n",
       "    }\n",
       "</style>\n",
       "<table border=\"1\" class=\"dataframe\">\n",
       "  <thead>\n",
       "    <tr style=\"text-align: right;\">\n",
       "      <th></th>\n",
       "      <th>comp</th>\n",
       "      <th>neigh</th>\n",
       "      <th>weights</th>\n",
       "      <th>p</th>\n",
       "      <th>algorithm</th>\n",
       "      <th>mean_te</th>\n",
       "      <th>std_te</th>\n",
       "    </tr>\n",
       "  </thead>\n",
       "  <tbody>\n",
       "    <tr>\n",
       "      <th>70</th>\n",
       "      <td>10</td>\n",
       "      <td>11</td>\n",
       "      <td>distance</td>\n",
       "      <td>1</td>\n",
       "      <td>kd_tree</td>\n",
       "      <td>0.921489</td>\n",
       "      <td>0.001525</td>\n",
       "    </tr>\n",
       "    <tr>\n",
       "      <th>55</th>\n",
       "      <td>10</td>\n",
       "      <td>12</td>\n",
       "      <td>distance</td>\n",
       "      <td>1</td>\n",
       "      <td>auto</td>\n",
       "      <td>0.921272</td>\n",
       "      <td>0.001724</td>\n",
       "    </tr>\n",
       "    <tr>\n",
       "      <th>97</th>\n",
       "      <td>10</td>\n",
       "      <td>7</td>\n",
       "      <td>distance</td>\n",
       "      <td>2</td>\n",
       "      <td>auto</td>\n",
       "      <td>0.919363</td>\n",
       "      <td>0.001073</td>\n",
       "    </tr>\n",
       "    <tr>\n",
       "      <th>64</th>\n",
       "      <td>10</td>\n",
       "      <td>20</td>\n",
       "      <td>distance</td>\n",
       "      <td>1</td>\n",
       "      <td>auto</td>\n",
       "      <td>0.918513</td>\n",
       "      <td>0.001414</td>\n",
       "    </tr>\n",
       "    <tr>\n",
       "      <th>92</th>\n",
       "      <td>10</td>\n",
       "      <td>7</td>\n",
       "      <td>uniform</td>\n",
       "      <td>1</td>\n",
       "      <td>kd_tree</td>\n",
       "      <td>0.917392</td>\n",
       "      <td>0.001836</td>\n",
       "    </tr>\n",
       "    <tr>\n",
       "      <th>61</th>\n",
       "      <td>10</td>\n",
       "      <td>8</td>\n",
       "      <td>uniform</td>\n",
       "      <td>1</td>\n",
       "      <td>auto</td>\n",
       "      <td>0.917130</td>\n",
       "      <td>0.001563</td>\n",
       "    </tr>\n",
       "    <tr>\n",
       "      <th>62</th>\n",
       "      <td>5</td>\n",
       "      <td>20</td>\n",
       "      <td>distance</td>\n",
       "      <td>1</td>\n",
       "      <td>kd_tree</td>\n",
       "      <td>0.914321</td>\n",
       "      <td>0.001016</td>\n",
       "    </tr>\n",
       "    <tr>\n",
       "      <th>1</th>\n",
       "      <td>10</td>\n",
       "      <td>4</td>\n",
       "      <td>uniform</td>\n",
       "      <td>2</td>\n",
       "      <td>auto</td>\n",
       "      <td>0.914041</td>\n",
       "      <td>0.001857</td>\n",
       "    </tr>\n",
       "    <tr>\n",
       "      <th>84</th>\n",
       "      <td>10</td>\n",
       "      <td>4</td>\n",
       "      <td>uniform</td>\n",
       "      <td>2</td>\n",
       "      <td>kd_tree</td>\n",
       "      <td>0.913953</td>\n",
       "      <td>0.000924</td>\n",
       "    </tr>\n",
       "    <tr>\n",
       "      <th>68</th>\n",
       "      <td>5</td>\n",
       "      <td>12</td>\n",
       "      <td>distance</td>\n",
       "      <td>2</td>\n",
       "      <td>auto</td>\n",
       "      <td>0.913938</td>\n",
       "      <td>0.001535</td>\n",
       "    </tr>\n",
       "  </tbody>\n",
       "</table>\n",
       "</div>"
      ],
      "text/plain": [
       "   comp neigh   weights  p algorithm   mean_te    std_te\n",
       "70   10    11  distance  1   kd_tree  0.921489  0.001525\n",
       "55   10    12  distance  1      auto  0.921272  0.001724\n",
       "97   10     7  distance  2      auto  0.919363  0.001073\n",
       "64   10    20  distance  1      auto  0.918513  0.001414\n",
       "92   10     7   uniform  1   kd_tree  0.917392  0.001836\n",
       "61   10     8   uniform  1      auto  0.917130  0.001563\n",
       "62    5    20  distance  1   kd_tree  0.914321  0.001016\n",
       "1    10     4   uniform  2      auto  0.914041  0.001857\n",
       "84   10     4   uniform  2   kd_tree  0.913953  0.000924\n",
       "68    5    12  distance  2      auto  0.913938  0.001535"
      ]
     },
     "execution_count": 11,
     "metadata": {},
     "output_type": "execute_result"
    }
   ],
   "source": [
    "# Collect results in a DataFrame\n",
    "knn_rand_2020 = pd.DataFrame({\n",
    "    'comp': knn_random_2020.cv_results_['param_pca__n_components'],\n",
    "    'neigh': knn_random_2020.cv_results_['param_knn__n_neighbors'],\n",
    "    'weights': knn_random_2020.cv_results_['param_knn__weights'],\n",
    "    'p': knn_random_2020.cv_results_['param_knn__p'],    \n",
    "    'algorithm': knn_random_2020.cv_results_['param_knn__algorithm'],\n",
    "    #'mean_tr': knn_random_2020.cv_results_['mean_train_score'],\n",
    "    'mean_te': knn_random_2020.cv_results_['mean_test_score'],\n",
    "    'std_te': knn_random_2020.cv_results_['std_test_score']\n",
    "})\n",
    "\n",
    "# Ten best combinations according to the mean \"test\" score\n",
    "# i.e. the mean score on the 3 validation folds\n",
    "knn_rand_2020.sort_values(by='mean_te', ascending=False).head(10)"
   ]
  },
  {
   "cell_type": "markdown",
   "metadata": {},
   "source": [
    "Now, let's finetune the parameters of the model."
   ]
  },
  {
   "cell_type": "code",
   "execution_count": 12,
   "metadata": {},
   "outputs": [
    {
     "name": "stdout",
     "output_type": "stream",
     "text": [
      "Fitting 5 folds for each of 25 candidates, totalling 125 fits\n"
     ]
    },
    {
     "name": "stderr",
     "output_type": "stream",
     "text": [
      "[Parallel(n_jobs=-1)]: Using backend LokyBackend with 8 concurrent workers.\n",
      "[Parallel(n_jobs=-1)]: Done  25 tasks      | elapsed:  1.3min\n",
      "[Parallel(n_jobs=-1)]: Done 125 out of 125 | elapsed:  6.4min finished\n"
     ]
    },
    {
     "data": {
      "text/html": [
       "<div>\n",
       "<style scoped>\n",
       "    .dataframe tbody tr th:only-of-type {\n",
       "        vertical-align: middle;\n",
       "    }\n",
       "\n",
       "    .dataframe tbody tr th {\n",
       "        vertical-align: top;\n",
       "    }\n",
       "\n",
       "    .dataframe thead th {\n",
       "        text-align: right;\n",
       "    }\n",
       "</style>\n",
       "<table border=\"1\" class=\"dataframe\">\n",
       "  <thead>\n",
       "    <tr style=\"text-align: right;\">\n",
       "      <th></th>\n",
       "      <th>comp</th>\n",
       "      <th>neigh</th>\n",
       "      <th>weights</th>\n",
       "      <th>p</th>\n",
       "      <th>algorithm</th>\n",
       "      <th>mean_te</th>\n",
       "      <th>std_te</th>\n",
       "    </tr>\n",
       "  </thead>\n",
       "  <tbody>\n",
       "    <tr>\n",
       "      <th>11</th>\n",
       "      <td>9</td>\n",
       "      <td>11</td>\n",
       "      <td>distance</td>\n",
       "      <td>1</td>\n",
       "      <td>auto</td>\n",
       "      <td>0.924927</td>\n",
       "      <td>0.002022</td>\n",
       "    </tr>\n",
       "    <tr>\n",
       "      <th>12</th>\n",
       "      <td>10</td>\n",
       "      <td>11</td>\n",
       "      <td>distance</td>\n",
       "      <td>1</td>\n",
       "      <td>auto</td>\n",
       "      <td>0.924902</td>\n",
       "      <td>0.001618</td>\n",
       "    </tr>\n",
       "    <tr>\n",
       "      <th>2</th>\n",
       "      <td>10</td>\n",
       "      <td>9</td>\n",
       "      <td>distance</td>\n",
       "      <td>1</td>\n",
       "      <td>auto</td>\n",
       "      <td>0.924888</td>\n",
       "      <td>0.001687</td>\n",
       "    </tr>\n",
       "    <tr>\n",
       "      <th>6</th>\n",
       "      <td>9</td>\n",
       "      <td>10</td>\n",
       "      <td>distance</td>\n",
       "      <td>1</td>\n",
       "      <td>auto</td>\n",
       "      <td>0.924785</td>\n",
       "      <td>0.002061</td>\n",
       "    </tr>\n",
       "    <tr>\n",
       "      <th>16</th>\n",
       "      <td>9</td>\n",
       "      <td>12</td>\n",
       "      <td>distance</td>\n",
       "      <td>1</td>\n",
       "      <td>auto</td>\n",
       "      <td>0.924661</td>\n",
       "      <td>0.001780</td>\n",
       "    </tr>\n",
       "    <tr>\n",
       "      <th>13</th>\n",
       "      <td>11</td>\n",
       "      <td>11</td>\n",
       "      <td>distance</td>\n",
       "      <td>1</td>\n",
       "      <td>auto</td>\n",
       "      <td>0.924520</td>\n",
       "      <td>0.002005</td>\n",
       "    </tr>\n",
       "    <tr>\n",
       "      <th>7</th>\n",
       "      <td>10</td>\n",
       "      <td>10</td>\n",
       "      <td>distance</td>\n",
       "      <td>1</td>\n",
       "      <td>auto</td>\n",
       "      <td>0.924476</td>\n",
       "      <td>0.001878</td>\n",
       "    </tr>\n",
       "    <tr>\n",
       "      <th>0</th>\n",
       "      <td>8</td>\n",
       "      <td>9</td>\n",
       "      <td>distance</td>\n",
       "      <td>1</td>\n",
       "      <td>auto</td>\n",
       "      <td>0.924461</td>\n",
       "      <td>0.001760</td>\n",
       "    </tr>\n",
       "    <tr>\n",
       "      <th>21</th>\n",
       "      <td>9</td>\n",
       "      <td>13</td>\n",
       "      <td>distance</td>\n",
       "      <td>1</td>\n",
       "      <td>auto</td>\n",
       "      <td>0.924388</td>\n",
       "      <td>0.001867</td>\n",
       "    </tr>\n",
       "    <tr>\n",
       "      <th>17</th>\n",
       "      <td>10</td>\n",
       "      <td>12</td>\n",
       "      <td>distance</td>\n",
       "      <td>1</td>\n",
       "      <td>auto</td>\n",
       "      <td>0.924367</td>\n",
       "      <td>0.001979</td>\n",
       "    </tr>\n",
       "  </tbody>\n",
       "</table>\n",
       "</div>"
      ],
      "text/plain": [
       "   comp neigh   weights  p algorithm   mean_te    std_te\n",
       "11    9    11  distance  1      auto  0.924927  0.002022\n",
       "12   10    11  distance  1      auto  0.924902  0.001618\n",
       "2    10     9  distance  1      auto  0.924888  0.001687\n",
       "6     9    10  distance  1      auto  0.924785  0.002061\n",
       "16    9    12  distance  1      auto  0.924661  0.001780\n",
       "13   11    11  distance  1      auto  0.924520  0.002005\n",
       "7    10    10  distance  1      auto  0.924476  0.001878\n",
       "0     8     9  distance  1      auto  0.924461  0.001760\n",
       "21    9    13  distance  1      auto  0.924388  0.001867\n",
       "17   10    12  distance  1      auto  0.924367  0.001979"
      ]
     },
     "execution_count": 12,
     "metadata": {},
     "output_type": "execute_result"
    }
   ],
   "source": [
    "# Create a second cross-validation object for fine-tuning\n",
    "grid2020 = {\n",
    "    'pca__n_components': np.arange(8, 13, step=1),\n",
    "    'knn__n_neighbors': np.arange(9, 14, step=1),  \n",
    "    'knn__weights': ['distance'],    \n",
    "    'knn__p': [1],\n",
    "    'knn__algorithm': ['auto']\n",
    "}\n",
    "knn_grid_cv2020 = GridSearchCV(knn_estimator, grid2020, cv=5, refit=True, return_train_score=True, verbose=2, n_jobs = -1)\n",
    "\n",
    "# Fit kNN estimator\n",
    "knn_grid_cv2020.fit(X2020_tr, y2020_tr)\n",
    "\n",
    "# Collect results in a DataFrame\n",
    "knn_results2020 = pd.DataFrame({\n",
    "    'comp': knn_grid_cv2020.cv_results_['param_pca__n_components'],\n",
    "    'neigh': knn_grid_cv2020.cv_results_['param_knn__n_neighbors'],\n",
    "    'weights': knn_grid_cv2020.cv_results_['param_knn__weights'],\n",
    "    'p': knn_grid_cv2020.cv_results_['param_knn__p'],\n",
    "    'algorithm': knn_grid_cv2020.cv_results_['param_knn__algorithm'],\n",
    "    #'mean_tr': knn_grid_cv2020.cv_results_['mean_train_score'],\n",
    "    'mean_te': knn_grid_cv2020.cv_results_['mean_test_score'],\n",
    "    'std_te': knn_grid_cv2020.cv_results_['std_test_score']\n",
    "})\n",
    "\n",
    "# Ten best combinations according to the mean \"test\" score\n",
    "# i.e. the mean score on the 5 validation folds\n",
    "knn_results2020.sort_values(by='mean_te', ascending=False).head(10)"
   ]
  },
  {
   "cell_type": "code",
   "execution_count": 13,
   "metadata": {},
   "outputs": [
    {
     "data": {
      "text/plain": [
       "Pipeline(steps=[('scaler', StandardScaler()), ('pca', PCA(n_components=9)),\n",
       "                ('knn',\n",
       "                 KNeighborsRegressor(n_neighbors=11, p=1, weights='distance'))])"
      ]
     },
     "execution_count": 13,
     "metadata": {},
     "output_type": "execute_result"
    }
   ],
   "source": [
    "# Show best estimator\n",
    "knn_grid_cv2020.best_estimator_"
   ]
  },
  {
   "cell_type": "markdown",
   "metadata": {},
   "source": [
    "Let's fit a kNN regression, calculate the predictions for the test set and calculate the model accuracy."
   ]
  },
  {
   "cell_type": "code",
   "execution_count": 14,
   "metadata": {},
   "outputs": [
    {
     "data": {
      "text/html": [
       "<div>\n",
       "<style scoped>\n",
       "    .dataframe tbody tr th:only-of-type {\n",
       "        vertical-align: middle;\n",
       "    }\n",
       "\n",
       "    .dataframe tbody tr th {\n",
       "        vertical-align: top;\n",
       "    }\n",
       "\n",
       "    .dataframe thead th {\n",
       "        text-align: right;\n",
       "    }\n",
       "</style>\n",
       "<table border=\"1\" class=\"dataframe\">\n",
       "  <thead>\n",
       "    <tr style=\"text-align: right;\">\n",
       "      <th></th>\n",
       "      <th>Model</th>\n",
       "      <th>MAE</th>\n",
       "      <th>RMSE</th>\n",
       "      <th>MSE</th>\n",
       "    </tr>\n",
       "  </thead>\n",
       "  <tbody>\n",
       "    <tr>\n",
       "      <th>0</th>\n",
       "      <td>kNN</td>\n",
       "      <td>347.223</td>\n",
       "      <td>3772.601</td>\n",
       "      <td>0.241</td>\n",
       "    </tr>\n",
       "  </tbody>\n",
       "</table>\n",
       "</div>"
      ],
      "text/plain": [
       "  Model      MAE      RMSE    MSE\n",
       "0   kNN  347.223  3772.601  0.241"
      ]
     },
     "execution_count": 14,
     "metadata": {},
     "output_type": "execute_result"
    }
   ],
   "source": [
    "# Create and fit kNN regression\n",
    "kNN2020 = knn_grid_cv2020.best_estimator_\n",
    "kNN2020.fit(X2020_tr, y2020_tr)\n",
    "\n",
    "# Calculate predictions\n",
    "y_pred_kNN2020 = kNN2020.predict(X2020_te) # Predictions for test data\n",
    "\n",
    "# Calculate model accuracy\n",
    "mae_kNN2020 = MAE(np.expm1(y2020_te), np.expm1(y_pred_kNN2020))\n",
    "rmse_kNN2020=RMSE(np.expm1(y2020_te), np.expm1(y_pred_kNN2020))\n",
    "mse_kNN2020 = MSE(y2020_te, y_pred_kNN2020)\n",
    "\n",
    "# Export model accuracy\n",
    "kNN2020=pd.DataFrame([['kNN', '{:.3f}'.format(mae_kNN2020), '{:.3f}'.format(rmse_kNN2020), '{:.3f}'.format(mse_kNN2020)]],\n",
    "                 columns=['Model', 'MAE', 'RMSE', 'MSE'])\n",
    "kNN2020.to_csv(\"kNN2020.csv\", encoding='utf-8', index=False)\n",
    "kNN2020.head()"
   ]
  },
  {
   "cell_type": "code",
   "execution_count": 15,
   "metadata": {},
   "outputs": [],
   "source": [
    "# Add prediction to dataset\n",
    "df2020_pred['TOV_kNN'] = np.expm1(y_pred_kNN2020).tolist()"
   ]
  },
  {
   "cell_type": "markdown",
   "metadata": {},
   "source": [
    "### 2.2 Dataset ending 2019 <a name=\"2.2\"></a>"
   ]
  },
  {
   "cell_type": "markdown",
   "metadata": {},
   "source": [
    "First, let's try to find the optimal parameters of the model with a random search over a grid of values."
   ]
  },
  {
   "cell_type": "code",
   "execution_count": 16,
   "metadata": {},
   "outputs": [
    {
     "name": "stdout",
     "output_type": "stream",
     "text": [
      "Fitting 3 folds for each of 100 candidates, totalling 300 fits\n"
     ]
    },
    {
     "name": "stderr",
     "output_type": "stream",
     "text": [
      "[Parallel(n_jobs=-1)]: Using backend LokyBackend with 8 concurrent workers.\n",
      "[Parallel(n_jobs=-1)]: Done  25 tasks      | elapsed: 11.0min\n",
      "[Parallel(n_jobs=-1)]: Done 146 tasks      | elapsed: 58.4min\n",
      "[Parallel(n_jobs=-1)]: Done 300 out of 300 | elapsed: 108.0min finished\n"
     ]
    },
    {
     "data": {
      "text/plain": [
       "{'pca__n_components': 10,\n",
       " 'knn__weights': 'distance',\n",
       " 'knn__p': 1,\n",
       " 'knn__n_neighbors': 11,\n",
       " 'knn__algorithm': 'kd_tree'}"
      ]
     },
     "execution_count": 16,
     "metadata": {},
     "output_type": "execute_result"
    }
   ],
   "source": [
    "# Random search of parameters, using 3 fold cross validation, \n",
    "# search across 100 different combinations, and use all available cores\n",
    "knn_random_2019 = RandomizedSearchCV(estimator = knn_estimator, param_distributions = random_grid, n_iter = 100, cv = 3, verbose=2, random_state=42, n_jobs = -1)\n",
    "\n",
    "# Fit the random search model\n",
    "knn_random_2019.fit(X2019_tr, y2019_tr)\n",
    "\n",
    "knn_random_2019.best_params_"
   ]
  },
  {
   "cell_type": "code",
   "execution_count": 17,
   "metadata": {},
   "outputs": [
    {
     "data": {
      "text/html": [
       "<div>\n",
       "<style scoped>\n",
       "    .dataframe tbody tr th:only-of-type {\n",
       "        vertical-align: middle;\n",
       "    }\n",
       "\n",
       "    .dataframe tbody tr th {\n",
       "        vertical-align: top;\n",
       "    }\n",
       "\n",
       "    .dataframe thead th {\n",
       "        text-align: right;\n",
       "    }\n",
       "</style>\n",
       "<table border=\"1\" class=\"dataframe\">\n",
       "  <thead>\n",
       "    <tr style=\"text-align: right;\">\n",
       "      <th></th>\n",
       "      <th>comp</th>\n",
       "      <th>neigh</th>\n",
       "      <th>weights</th>\n",
       "      <th>p</th>\n",
       "      <th>algorithm</th>\n",
       "      <th>mean_te</th>\n",
       "      <th>std_te</th>\n",
       "    </tr>\n",
       "  </thead>\n",
       "  <tbody>\n",
       "    <tr>\n",
       "      <th>70</th>\n",
       "      <td>10</td>\n",
       "      <td>11</td>\n",
       "      <td>distance</td>\n",
       "      <td>1</td>\n",
       "      <td>kd_tree</td>\n",
       "      <td>0.934540</td>\n",
       "      <td>0.003477</td>\n",
       "    </tr>\n",
       "    <tr>\n",
       "      <th>55</th>\n",
       "      <td>10</td>\n",
       "      <td>12</td>\n",
       "      <td>distance</td>\n",
       "      <td>1</td>\n",
       "      <td>auto</td>\n",
       "      <td>0.933551</td>\n",
       "      <td>0.003869</td>\n",
       "    </tr>\n",
       "    <tr>\n",
       "      <th>97</th>\n",
       "      <td>10</td>\n",
       "      <td>7</td>\n",
       "      <td>distance</td>\n",
       "      <td>2</td>\n",
       "      <td>auto</td>\n",
       "      <td>0.932922</td>\n",
       "      <td>0.003603</td>\n",
       "    </tr>\n",
       "    <tr>\n",
       "      <th>64</th>\n",
       "      <td>10</td>\n",
       "      <td>20</td>\n",
       "      <td>distance</td>\n",
       "      <td>1</td>\n",
       "      <td>auto</td>\n",
       "      <td>0.930940</td>\n",
       "      <td>0.004044</td>\n",
       "    </tr>\n",
       "    <tr>\n",
       "      <th>92</th>\n",
       "      <td>10</td>\n",
       "      <td>7</td>\n",
       "      <td>uniform</td>\n",
       "      <td>1</td>\n",
       "      <td>kd_tree</td>\n",
       "      <td>0.929662</td>\n",
       "      <td>0.004140</td>\n",
       "    </tr>\n",
       "    <tr>\n",
       "      <th>84</th>\n",
       "      <td>10</td>\n",
       "      <td>4</td>\n",
       "      <td>uniform</td>\n",
       "      <td>2</td>\n",
       "      <td>kd_tree</td>\n",
       "      <td>0.929323</td>\n",
       "      <td>0.003637</td>\n",
       "    </tr>\n",
       "    <tr>\n",
       "      <th>61</th>\n",
       "      <td>10</td>\n",
       "      <td>8</td>\n",
       "      <td>uniform</td>\n",
       "      <td>1</td>\n",
       "      <td>auto</td>\n",
       "      <td>0.928657</td>\n",
       "      <td>0.004353</td>\n",
       "    </tr>\n",
       "    <tr>\n",
       "      <th>1</th>\n",
       "      <td>10</td>\n",
       "      <td>4</td>\n",
       "      <td>uniform</td>\n",
       "      <td>2</td>\n",
       "      <td>auto</td>\n",
       "      <td>0.928391</td>\n",
       "      <td>0.003850</td>\n",
       "    </tr>\n",
       "    <tr>\n",
       "      <th>62</th>\n",
       "      <td>5</td>\n",
       "      <td>20</td>\n",
       "      <td>distance</td>\n",
       "      <td>1</td>\n",
       "      <td>kd_tree</td>\n",
       "      <td>0.926793</td>\n",
       "      <td>0.004141</td>\n",
       "    </tr>\n",
       "    <tr>\n",
       "      <th>68</th>\n",
       "      <td>5</td>\n",
       "      <td>12</td>\n",
       "      <td>distance</td>\n",
       "      <td>2</td>\n",
       "      <td>auto</td>\n",
       "      <td>0.926433</td>\n",
       "      <td>0.003429</td>\n",
       "    </tr>\n",
       "  </tbody>\n",
       "</table>\n",
       "</div>"
      ],
      "text/plain": [
       "   comp neigh   weights  p algorithm   mean_te    std_te\n",
       "70   10    11  distance  1   kd_tree  0.934540  0.003477\n",
       "55   10    12  distance  1      auto  0.933551  0.003869\n",
       "97   10     7  distance  2      auto  0.932922  0.003603\n",
       "64   10    20  distance  1      auto  0.930940  0.004044\n",
       "92   10     7   uniform  1   kd_tree  0.929662  0.004140\n",
       "84   10     4   uniform  2   kd_tree  0.929323  0.003637\n",
       "61   10     8   uniform  1      auto  0.928657  0.004353\n",
       "1    10     4   uniform  2      auto  0.928391  0.003850\n",
       "62    5    20  distance  1   kd_tree  0.926793  0.004141\n",
       "68    5    12  distance  2      auto  0.926433  0.003429"
      ]
     },
     "execution_count": 17,
     "metadata": {},
     "output_type": "execute_result"
    }
   ],
   "source": [
    "# Collect results in a DataFrame\n",
    "knn_rand_2019 = pd.DataFrame({\n",
    "    'comp': knn_random_2019.cv_results_['param_pca__n_components'],\n",
    "    'neigh': knn_random_2019.cv_results_['param_knn__n_neighbors'],\n",
    "    'weights': knn_random_2019.cv_results_['param_knn__weights'],\n",
    "    'p': knn_random_2019.cv_results_['param_knn__p'],    \n",
    "    'algorithm': knn_random_2019.cv_results_['param_knn__algorithm'],\n",
    "    #'mean_tr': knn_random_2019.cv_results_['mean_train_score'],\n",
    "    'mean_te': knn_random_2019.cv_results_['mean_test_score'],\n",
    "    'std_te': knn_random_2019.cv_results_['std_test_score']\n",
    "})\n",
    "\n",
    "# Ten best combinations according to the mean \"test\" score\n",
    "# i.e. the mean score on the 3 validation folds\n",
    "knn_rand_2019.sort_values(by='mean_te', ascending=False).head(10)"
   ]
  },
  {
   "cell_type": "markdown",
   "metadata": {},
   "source": [
    "Now, let's finetune the parameters of the model."
   ]
  },
  {
   "cell_type": "code",
   "execution_count": 18,
   "metadata": {},
   "outputs": [
    {
     "name": "stdout",
     "output_type": "stream",
     "text": [
      "Fitting 5 folds for each of 25 candidates, totalling 125 fits\n"
     ]
    },
    {
     "name": "stderr",
     "output_type": "stream",
     "text": [
      "[Parallel(n_jobs=-1)]: Using backend LokyBackend with 8 concurrent workers.\n",
      "[Parallel(n_jobs=-1)]: Done  34 tasks      | elapsed:  1.2min\n",
      "[Parallel(n_jobs=-1)]: Done 125 out of 125 | elapsed:  4.5min finished\n"
     ]
    },
    {
     "data": {
      "text/html": [
       "<div>\n",
       "<style scoped>\n",
       "    .dataframe tbody tr th:only-of-type {\n",
       "        vertical-align: middle;\n",
       "    }\n",
       "\n",
       "    .dataframe tbody tr th {\n",
       "        vertical-align: top;\n",
       "    }\n",
       "\n",
       "    .dataframe thead th {\n",
       "        text-align: right;\n",
       "    }\n",
       "</style>\n",
       "<table border=\"1\" class=\"dataframe\">\n",
       "  <thead>\n",
       "    <tr style=\"text-align: right;\">\n",
       "      <th></th>\n",
       "      <th>comp</th>\n",
       "      <th>neigh</th>\n",
       "      <th>weights</th>\n",
       "      <th>p</th>\n",
       "      <th>algorithm</th>\n",
       "      <th>mean_te</th>\n",
       "      <th>std_te</th>\n",
       "    </tr>\n",
       "  </thead>\n",
       "  <tbody>\n",
       "    <tr>\n",
       "      <th>6</th>\n",
       "      <td>9</td>\n",
       "      <td>10</td>\n",
       "      <td>distance</td>\n",
       "      <td>1</td>\n",
       "      <td>kd_tree</td>\n",
       "      <td>0.936305</td>\n",
       "      <td>0.004147</td>\n",
       "    </tr>\n",
       "    <tr>\n",
       "      <th>11</th>\n",
       "      <td>9</td>\n",
       "      <td>11</td>\n",
       "      <td>distance</td>\n",
       "      <td>1</td>\n",
       "      <td>kd_tree</td>\n",
       "      <td>0.936190</td>\n",
       "      <td>0.004560</td>\n",
       "    </tr>\n",
       "    <tr>\n",
       "      <th>16</th>\n",
       "      <td>9</td>\n",
       "      <td>12</td>\n",
       "      <td>distance</td>\n",
       "      <td>1</td>\n",
       "      <td>kd_tree</td>\n",
       "      <td>0.935995</td>\n",
       "      <td>0.004361</td>\n",
       "    </tr>\n",
       "    <tr>\n",
       "      <th>5</th>\n",
       "      <td>8</td>\n",
       "      <td>10</td>\n",
       "      <td>distance</td>\n",
       "      <td>1</td>\n",
       "      <td>kd_tree</td>\n",
       "      <td>0.935950</td>\n",
       "      <td>0.004167</td>\n",
       "    </tr>\n",
       "    <tr>\n",
       "      <th>21</th>\n",
       "      <td>9</td>\n",
       "      <td>13</td>\n",
       "      <td>distance</td>\n",
       "      <td>1</td>\n",
       "      <td>kd_tree</td>\n",
       "      <td>0.935834</td>\n",
       "      <td>0.004507</td>\n",
       "    </tr>\n",
       "    <tr>\n",
       "      <th>7</th>\n",
       "      <td>10</td>\n",
       "      <td>10</td>\n",
       "      <td>distance</td>\n",
       "      <td>1</td>\n",
       "      <td>kd_tree</td>\n",
       "      <td>0.935771</td>\n",
       "      <td>0.004561</td>\n",
       "    </tr>\n",
       "    <tr>\n",
       "      <th>2</th>\n",
       "      <td>10</td>\n",
       "      <td>9</td>\n",
       "      <td>distance</td>\n",
       "      <td>1</td>\n",
       "      <td>kd_tree</td>\n",
       "      <td>0.935727</td>\n",
       "      <td>0.004609</td>\n",
       "    </tr>\n",
       "    <tr>\n",
       "      <th>20</th>\n",
       "      <td>8</td>\n",
       "      <td>13</td>\n",
       "      <td>distance</td>\n",
       "      <td>1</td>\n",
       "      <td>kd_tree</td>\n",
       "      <td>0.935663</td>\n",
       "      <td>0.004091</td>\n",
       "    </tr>\n",
       "    <tr>\n",
       "      <th>1</th>\n",
       "      <td>9</td>\n",
       "      <td>9</td>\n",
       "      <td>distance</td>\n",
       "      <td>1</td>\n",
       "      <td>kd_tree</td>\n",
       "      <td>0.935660</td>\n",
       "      <td>0.004278</td>\n",
       "    </tr>\n",
       "    <tr>\n",
       "      <th>15</th>\n",
       "      <td>8</td>\n",
       "      <td>12</td>\n",
       "      <td>distance</td>\n",
       "      <td>1</td>\n",
       "      <td>kd_tree</td>\n",
       "      <td>0.935649</td>\n",
       "      <td>0.004351</td>\n",
       "    </tr>\n",
       "  </tbody>\n",
       "</table>\n",
       "</div>"
      ],
      "text/plain": [
       "   comp neigh   weights  p algorithm   mean_te    std_te\n",
       "6     9    10  distance  1   kd_tree  0.936305  0.004147\n",
       "11    9    11  distance  1   kd_tree  0.936190  0.004560\n",
       "16    9    12  distance  1   kd_tree  0.935995  0.004361\n",
       "5     8    10  distance  1   kd_tree  0.935950  0.004167\n",
       "21    9    13  distance  1   kd_tree  0.935834  0.004507\n",
       "7    10    10  distance  1   kd_tree  0.935771  0.004561\n",
       "2    10     9  distance  1   kd_tree  0.935727  0.004609\n",
       "20    8    13  distance  1   kd_tree  0.935663  0.004091\n",
       "1     9     9  distance  1   kd_tree  0.935660  0.004278\n",
       "15    8    12  distance  1   kd_tree  0.935649  0.004351"
      ]
     },
     "execution_count": 18,
     "metadata": {},
     "output_type": "execute_result"
    }
   ],
   "source": [
    "# Create a second cross-validation object for fine-tuning\n",
    "grid2019 = {\n",
    "    'pca__n_components': np.arange(8, 13, step=1),\n",
    "    'knn__n_neighbors': np.arange(9, 14, step=1),  \n",
    "    'knn__weights': ['distance'],    \n",
    "    'knn__p': [1],\n",
    "    'knn__algorithm': ['kd_tree']\n",
    "}\n",
    "knn_grid_cv2019 = GridSearchCV(knn_estimator, grid2019, cv=5, refit=True, return_train_score=True, verbose=True, n_jobs = -1)\n",
    "\n",
    "# Fit kNN estimator\n",
    "knn_grid_cv2019.fit(X2019_tr, y2019_tr)\n",
    "\n",
    "# Collect results in a DataFrame\n",
    "knn_results2019 = pd.DataFrame({\n",
    "    'comp': knn_grid_cv2019.cv_results_['param_pca__n_components'],\n",
    "    'neigh': knn_grid_cv2019.cv_results_['param_knn__n_neighbors'],\n",
    "    'weights': knn_grid_cv2019.cv_results_['param_knn__weights'],\n",
    "    'p': knn_grid_cv2019.cv_results_['param_knn__p'],\n",
    "    'algorithm': knn_grid_cv2019.cv_results_['param_knn__algorithm'],\n",
    "    #'mean_tr': knn_grid_cv2019.cv_results_['mean_train_score'],\n",
    "    'mean_te': knn_grid_cv2019.cv_results_['mean_test_score'],\n",
    "    'std_te': knn_grid_cv2019.cv_results_['std_test_score']\n",
    "})\n",
    "\n",
    "# Ten best combinations according to the mean \"test\" score\n",
    "# i.e. the mean score on the 5 validation folds\n",
    "knn_results2019.sort_values(by='mean_te', ascending=False).head(10)"
   ]
  },
  {
   "cell_type": "code",
   "execution_count": 19,
   "metadata": {},
   "outputs": [
    {
     "data": {
      "text/plain": [
       "Pipeline(steps=[('scaler', StandardScaler()), ('pca', PCA(n_components=9)),\n",
       "                ('knn',\n",
       "                 KNeighborsRegressor(algorithm='kd_tree', n_neighbors=10, p=1,\n",
       "                                     weights='distance'))])"
      ]
     },
     "execution_count": 19,
     "metadata": {},
     "output_type": "execute_result"
    }
   ],
   "source": [
    "# Show best estimator\n",
    "knn_grid_cv2019.best_estimator_"
   ]
  },
  {
   "cell_type": "markdown",
   "metadata": {},
   "source": [
    "Let's fit a kNN regression to the data until 2019, calculate the predictions for the test set and calculate the model accuracy."
   ]
  },
  {
   "cell_type": "code",
   "execution_count": 20,
   "metadata": {},
   "outputs": [
    {
     "data": {
      "text/html": [
       "<div>\n",
       "<style scoped>\n",
       "    .dataframe tbody tr th:only-of-type {\n",
       "        vertical-align: middle;\n",
       "    }\n",
       "\n",
       "    .dataframe tbody tr th {\n",
       "        vertical-align: top;\n",
       "    }\n",
       "\n",
       "    .dataframe thead th {\n",
       "        text-align: right;\n",
       "    }\n",
       "</style>\n",
       "<table border=\"1\" class=\"dataframe\">\n",
       "  <thead>\n",
       "    <tr style=\"text-align: right;\">\n",
       "      <th></th>\n",
       "      <th>Model</th>\n",
       "      <th>MAE</th>\n",
       "      <th>RMSE</th>\n",
       "      <th>MSE</th>\n",
       "    </tr>\n",
       "  </thead>\n",
       "  <tbody>\n",
       "    <tr>\n",
       "      <th>0</th>\n",
       "      <td>kNN</td>\n",
       "      <td>330.000</td>\n",
       "      <td>4211.801</td>\n",
       "      <td>0.214</td>\n",
       "    </tr>\n",
       "  </tbody>\n",
       "</table>\n",
       "</div>"
      ],
      "text/plain": [
       "  Model      MAE      RMSE    MSE\n",
       "0   kNN  330.000  4211.801  0.214"
      ]
     },
     "execution_count": 20,
     "metadata": {},
     "output_type": "execute_result"
    }
   ],
   "source": [
    "# Create and fit kNN regression\n",
    "kNN2019 = knn_grid_cv2019.best_estimator_\n",
    "kNN2019.fit(X2019_tr, y2019_tr)\n",
    "\n",
    "# Calculate predictions\n",
    "y_pred_kNN2019 = kNN2019.predict(X2019_te) # Predictions for test data\n",
    "\n",
    "# Calculate model accuracy\n",
    "mae_kNN2019 = MAE(np.expm1(y2019_te), np.expm1(y_pred_kNN2019))\n",
    "rmse_kNN2019=RMSE(np.expm1(y2019_te), np.expm1(y_pred_kNN2019))\n",
    "mse_kNN2019 = MSE(y2019_te, y_pred_kNN2019)\n",
    "\n",
    "# Export model accuracy\n",
    "kNN2019=pd.DataFrame([['kNN', '{:.3f}'.format(mae_kNN2019), '{:.3f}'.format(rmse_kNN2019), '{:.3f}'.format(mse_kNN2019)]],\n",
    "                 columns=['Model', 'MAE', 'RMSE', 'MSE'])\n",
    "kNN2019.to_csv(\"kNN2019.csv\", encoding='utf-8', index=False)\n",
    "kNN2019.head()"
   ]
  },
  {
   "cell_type": "code",
   "execution_count": 21,
   "metadata": {},
   "outputs": [],
   "source": [
    "# Add prediction to dataset\n",
    "df2019_pred['TOV_kNN'] = np.expm1(y_pred_kNN2019).tolist()"
   ]
  },
  {
   "cell_type": "markdown",
   "metadata": {},
   "source": [
    "### 2.3 Model comparison <a name=\"2.3\"></a>"
   ]
  },
  {
   "cell_type": "code",
   "execution_count": 22,
   "metadata": {},
   "outputs": [
    {
     "data": {
      "image/png": "[encoded data removed]",
      "text/plain": [
       "<Figure size 432x288 with 1 Axes>"
      ]
     },
     "metadata": {
      "needs_background": "light"
     },
     "output_type": "display_data"
    }
   ],
   "source": [
    "# Comparison\n",
    "mae_values = [mae_baseline2020, mae_baseline2019, mae_kNN2020, mae_kNN2019]\n",
    "titles = ['baseline2020', 'baseline2019', 'kNN2020', 'kNN2019']\n",
    "\n",
    "xcor = np.arange(len(mae_values))\n",
    "plt.bar(xcor, mae_values)\n",
    "plt.xticks(xcor, titles)\n",
    "plt.title('Model comparison')\n",
    "plt.ylabel('MAE (in CHF)')\n",
    "plt.show()"
   ]
  },
  {
   "cell_type": "code",
   "execution_count": 23,
   "metadata": {},
   "outputs": [
    {
     "data": {
      "image/png": "[encoded data removed]",
      "text/plain": [
       "<Figure size 1080x360 with 3 Axes>"
      ]
     },
     "metadata": {
      "needs_background": "light"
     },
     "output_type": "display_data"
    }
   ],
   "source": [
    "plot_prediction('kNN',df2020_pred,2020,'kNN Regression')"
   ]
  },
  {
   "cell_type": "code",
   "execution_count": 24,
   "metadata": {},
   "outputs": [
    {
     "data": {
      "image/png": "[encoded data removed]",
      "text/plain": [
       "<Figure size 1080x360 with 3 Axes>"
      ]
     },
     "metadata": {
      "needs_background": "light"
     },
     "output_type": "display_data"
    }
   ],
   "source": [
    "plot_prediction('kNN',df2019_pred,2019,'kNN regression')"
   ]
  },
  {
   "cell_type": "code",
   "execution_count": 25,
   "metadata": {},
   "outputs": [],
   "source": [
    "# Exporting datasets with predictions\n",
    "df2020_pred.to_csv(\"df2020_pred.csv\", encoding='utf-8', index=True)\n",
    "df2019_pred.to_csv(\"df2019_pred.csv\", encoding='utf-8', index=True)"
   ]
  },
  {
   "cell_type": "markdown",
   "metadata": {},
   "source": [
    "The kNN regression seems to give quite good results, especially for the large enterprises. The model seems to be less able to predict turnover of 0. This might be due to the log1p transformation. The model with data only until 2019 gives only slightly better results than the model using all the data, so the model seems to capture well the effects of the coronavirus pandemic. "
   ]
  },
  {
   "cell_type": "code",
   "execution_count": null,
   "metadata": {},
   "outputs": [],
   "source": []
  }
 ],
 "metadata": {
  "kernelspec": {
   "display_name": "Python 3",
   "language": "python",
   "name": "python3"
  },
  "language_info": {
   "codemirror_mode": {
    "name": "ipython",
    "version": 3
   },
   "file_extension": ".py",
   "mimetype": "text/x-python",
   "name": "python",
   "nbconvert_exporter": "python",
   "pygments_lexer": "ipython3",
   "version": "3.6.11"
  }
 },
 "nbformat": 4,
 "nbformat_minor": 4
}
